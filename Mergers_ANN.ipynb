{
 "cells": [
  {
   "cell_type": "markdown",
   "id": "99ec1d51",
   "metadata": {},
   "source": [
    "## Artificial Neural Network"
   ]
  },
  {
   "cell_type": "code",
   "execution_count": 1,
   "id": "d984ece2",
   "metadata": {},
   "outputs": [],
   "source": [
    "import numpy as np\n",
    "import pandas as pd\n",
    "import matplotlib.pyplot as plt"
   ]
  },
  {
   "cell_type": "code",
   "execution_count": 2,
   "id": "1cc2e371",
   "metadata": {},
   "outputs": [],
   "source": [
    "df_ann = pd.read_csv(\"df_knn.csv\")"
   ]
  },
  {
   "cell_type": "code",
   "execution_count": 3,
   "id": "3ae84461",
   "metadata": {},
   "outputs": [
    {
     "data": {
      "text/html": [
       "<div>\n",
       "<style scoped>\n",
       "    .dataframe tbody tr th:only-of-type {\n",
       "        vertical-align: middle;\n",
       "    }\n",
       "\n",
       "    .dataframe tbody tr th {\n",
       "        vertical-align: top;\n",
       "    }\n",
       "\n",
       "    .dataframe thead th {\n",
       "        text-align: right;\n",
       "    }\n",
       "</style>\n",
       "<table border=\"1\" class=\"dataframe\">\n",
       "  <thead>\n",
       "    <tr style=\"text-align: right;\">\n",
       "      <th></th>\n",
       "      <th>market</th>\n",
       "      <th>funding_total_usd</th>\n",
       "      <th>region</th>\n",
       "      <th>city</th>\n",
       "      <th>funding_rounds</th>\n",
       "      <th>Founding_year</th>\n",
       "      <th>first_funding_year</th>\n",
       "      <th>last_funding_year</th>\n",
       "      <th>first_funding_gap</th>\n",
       "      <th>last_funding_gap</th>\n",
       "      <th>first_last_funding_gap</th>\n",
       "      <th>success</th>\n",
       "    </tr>\n",
       "  </thead>\n",
       "  <tbody>\n",
       "    <tr>\n",
       "      <th>0</th>\n",
       "      <td>226</td>\n",
       "      <td>1750000</td>\n",
       "      <td>104</td>\n",
       "      <td>449</td>\n",
       "      <td>1</td>\n",
       "      <td>2012</td>\n",
       "      <td>2012</td>\n",
       "      <td>2012</td>\n",
       "      <td>0</td>\n",
       "      <td>0</td>\n",
       "      <td>0</td>\n",
       "      <td>1</td>\n",
       "    </tr>\n",
       "    <tr>\n",
       "      <th>1</th>\n",
       "      <td>309</td>\n",
       "      <td>7000000</td>\n",
       "      <td>51</td>\n",
       "      <td>469</td>\n",
       "      <td>1</td>\n",
       "      <td>2011</td>\n",
       "      <td>2013</td>\n",
       "      <td>2013</td>\n",
       "      <td>2</td>\n",
       "      <td>2</td>\n",
       "      <td>0</td>\n",
       "      <td>0</td>\n",
       "    </tr>\n",
       "    <tr>\n",
       "      <th>2</th>\n",
       "      <td>79</td>\n",
       "      <td>2535000</td>\n",
       "      <td>131</td>\n",
       "      <td>569</td>\n",
       "      <td>2</td>\n",
       "      <td>2010</td>\n",
       "      <td>2010</td>\n",
       "      <td>2011</td>\n",
       "      <td>0</td>\n",
       "      <td>1</td>\n",
       "      <td>1</td>\n",
       "      <td>1</td>\n",
       "    </tr>\n",
       "    <tr>\n",
       "      <th>3</th>\n",
       "      <td>8</td>\n",
       "      <td>1250000</td>\n",
       "      <td>131</td>\n",
       "      <td>569</td>\n",
       "      <td>2</td>\n",
       "      <td>2011</td>\n",
       "      <td>2011</td>\n",
       "      <td>2011</td>\n",
       "      <td>0</td>\n",
       "      <td>0</td>\n",
       "      <td>0</td>\n",
       "      <td>1</td>\n",
       "    </tr>\n",
       "    <tr>\n",
       "      <th>4</th>\n",
       "      <td>79</td>\n",
       "      <td>50000</td>\n",
       "      <td>32</td>\n",
       "      <td>145</td>\n",
       "      <td>1</td>\n",
       "      <td>2009</td>\n",
       "      <td>2009</td>\n",
       "      <td>2009</td>\n",
       "      <td>0</td>\n",
       "      <td>0</td>\n",
       "      <td>0</td>\n",
       "      <td>0</td>\n",
       "    </tr>\n",
       "  </tbody>\n",
       "</table>\n",
       "</div>"
      ],
      "text/plain": [
       "   market  funding_total_usd  region  city  funding_rounds  Founding_year  \\\n",
       "0     226            1750000     104   449               1           2012   \n",
       "1     309            7000000      51   469               1           2011   \n",
       "2      79            2535000     131   569               2           2010   \n",
       "3       8            1250000     131   569               2           2011   \n",
       "4      79              50000      32   145               1           2009   \n",
       "\n",
       "   first_funding_year  last_funding_year  first_funding_gap  last_funding_gap  \\\n",
       "0                2012               2012                  0                 0   \n",
       "1                2013               2013                  2                 2   \n",
       "2                2010               2011                  0                 1   \n",
       "3                2011               2011                  0                 0   \n",
       "4                2009               2009                  0                 0   \n",
       "\n",
       "   first_last_funding_gap  success  \n",
       "0                       0        1  \n",
       "1                       0        0  \n",
       "2                       1        1  \n",
       "3                       0        1  \n",
       "4                       0        0  "
      ]
     },
     "execution_count": 3,
     "metadata": {},
     "output_type": "execute_result"
    }
   ],
   "source": [
    "df_ann.head()"
   ]
  },
  {
   "cell_type": "code",
   "execution_count": 4,
   "id": "e88e2c84",
   "metadata": {},
   "outputs": [
    {
     "data": {
      "text/plain": [
       "Index(['market', 'funding_total_usd', 'region', 'city', 'funding_rounds',\n",
       "       'Founding_year', 'first_funding_year', 'last_funding_year',\n",
       "       'first_funding_gap', 'last_funding_gap', 'first_last_funding_gap',\n",
       "       'success'],\n",
       "      dtype='object')"
      ]
     },
     "execution_count": 4,
     "metadata": {},
     "output_type": "execute_result"
    }
   ],
   "source": [
    "df_ann.columns"
   ]
  },
  {
   "cell_type": "code",
   "execution_count": 5,
   "id": "ae97e120",
   "metadata": {},
   "outputs": [],
   "source": [
    "from sklearn.model_selection import train_test_split\n",
    "x = df_ann.drop('success', axis = 1)\n",
    "y = df_ann['success']\n",
    "x_train, x_test, y_train, y_test = train_test_split(x, y, test_size = 0.3)"
   ]
  },
  {
   "cell_type": "code",
   "execution_count": 6,
   "id": "f9d97be0",
   "metadata": {},
   "outputs": [],
   "source": [
    "# Feature Scaling\n",
    "from sklearn.preprocessing import StandardScaler\n",
    "sc = StandardScaler()\n",
    "X_train_scaled = sc.fit_transform(x_train)\n",
    "X_test_scaled = sc.transform(x_test)"
   ]
  },
  {
   "cell_type": "code",
   "execution_count": 7,
   "id": "4cd6d209",
   "metadata": {},
   "outputs": [],
   "source": [
    "#!pip install h5py"
   ]
  },
  {
   "cell_type": "code",
   "execution_count": 8,
   "id": "0db1cb00",
   "metadata": {},
   "outputs": [
    {
     "name": "stderr",
     "output_type": "stream",
     "text": [
      "Using TensorFlow backend.\n"
     ]
    }
   ],
   "source": [
    "##building an ANN\n",
    "import keras\n",
    "from keras.models import Sequential\n",
    "from keras.layers import Dense"
   ]
  },
  {
   "cell_type": "code",
   "execution_count": 9,
   "id": "4b09909a",
   "metadata": {},
   "outputs": [],
   "source": [
    "classifier = Sequential()"
   ]
  },
  {
   "cell_type": "code",
   "execution_count": 10,
   "id": "51a08e6a",
   "metadata": {},
   "outputs": [],
   "source": [
    "classifier.add(Dense(\n",
    "                    units=6,\n",
    "                    kernel_initializer=\"uniform\",\n",
    "                    activation=\"relu\",\n",
    "                    input_dim = 11\n",
    "                    ))\n",
    "#adding second hidden layer\n",
    "classifier.add(Dense(\n",
    "                    units=6,\n",
    "                    kernel_initializer=\"uniform\",\n",
    "                    activation=\"relu\",\n",
    "                    ))\n",
    "\n",
    "#adding output layer\n",
    "classifier.add(Dense(\n",
    "                    units=1,\n",
    "                    kernel_initializer=\"uniform\",\n",
    "                    activation=\"sigmoid\",\n",
    "                    ))"
   ]
  },
  {
   "cell_type": "code",
   "execution_count": 11,
   "id": "c30e7b5d",
   "metadata": {},
   "outputs": [],
   "source": [
    "#compile ANN\n",
    "classifier.compile(\n",
    "                optimizer = \"adam\",\n",
    "                loss = \"binary_crossentropy\",\n",
    "                metrics = ['accuracy']\n",
    "                )"
   ]
  },
  {
   "cell_type": "code",
   "execution_count": 12,
   "id": "c3f8d353",
   "metadata": {
    "scrolled": true
   },
   "outputs": [
    {
     "name": "stdout",
     "output_type": "stream",
     "text": [
      "Epoch 1/100\n",
      "3219/3219 [==============================] - 2s 620us/step - loss: 10.6486 - accuracy: 0.5399\n",
      "Epoch 2/100\n",
      "3219/3219 [==============================] - 1s 419us/step - loss: 0.6860 - accuracy: 0.5881\n",
      "Epoch 3/100\n",
      "3219/3219 [==============================] - 1s 399us/step - loss: 0.6790 - accuracy: 0.5996\n",
      "Epoch 4/100\n",
      "3219/3219 [==============================] - 1s 406us/step - loss: 0.6671 - accuracy: 0.6222\n",
      "Epoch 5/100\n",
      "3219/3219 [==============================] - 1s 382us/step - loss: 0.6891 - accuracy: 0.6045\n",
      "Epoch 6/100\n",
      "3219/3219 [==============================] - 1s 426us/step - loss: 0.6711 - accuracy: 0.6058\n",
      "Epoch 7/100\n",
      "3219/3219 [==============================] - 1s 403us/step - loss: 0.6683 - accuracy: 0.6076\n",
      "Epoch 8/100\n",
      "3219/3219 [==============================] - 1s 395us/step - loss: 0.6675 - accuracy: 0.6098\n",
      "Epoch 9/100\n",
      "3219/3219 [==============================] - 1s 431us/step - loss: 0.6642 - accuracy: 0.6117\n",
      "Epoch 10/100\n",
      "3219/3219 [==============================] - 1s 341us/step - loss: 0.6601 - accuracy: 0.6198\n",
      "Epoch 11/100\n",
      "3219/3219 [==============================] - 1s 359us/step - loss: 0.6582 - accuracy: 0.6219\n",
      "Epoch 12/100\n",
      "3219/3219 [==============================] - 1s 379us/step - loss: 0.6537 - accuracy: 0.6309\n",
      "Epoch 13/100\n",
      "3219/3219 [==============================] - 1s 360us/step - loss: 0.6463 - accuracy: 0.6431\n",
      "Epoch 14/100\n",
      "3219/3219 [==============================] - 1s 325us/step - loss: 0.6633 - accuracy: 0.6316\n",
      "Epoch 15/100\n",
      "3219/3219 [==============================] - 1s 348us/step - loss: 0.6693 - accuracy: 0.60890s - loss: 0.6712 - accuracy\n",
      "Epoch 16/100\n",
      "3219/3219 [==============================] - 1s 358us/step - loss: 0.6683 - accuracy: 0.6114\n",
      "Epoch 17/100\n",
      "3219/3219 [==============================] - 1s 343us/step - loss: 0.6651 - accuracy: 0.6129\n",
      "Epoch 18/100\n",
      "3219/3219 [==============================] - 1s 373us/step - loss: 0.6636 - accuracy: 0.6194\n",
      "Epoch 19/100\n",
      "3219/3219 [==============================] - 1s 371us/step - loss: 0.6637 - accuracy: 0.6194\n",
      "Epoch 20/100\n",
      "3219/3219 [==============================] - 1s 383us/step - loss: 0.6638 - accuracy: 0.6167\n",
      "Epoch 21/100\n",
      "3219/3219 [==============================] - 1s 371us/step - loss: 0.6610 - accuracy: 0.6219\n",
      "Epoch 22/100\n",
      "3219/3219 [==============================] - 1s 369us/step - loss: 0.6605 - accuracy: 0.6232\n",
      "Epoch 23/100\n",
      "3219/3219 [==============================] - 1s 330us/step - loss: 0.6614 - accuracy: 0.6176\n",
      "Epoch 24/100\n",
      "3219/3219 [==============================] - 1s 341us/step - loss: 0.6575 - accuracy: 0.6222\n",
      "Epoch 25/100\n",
      "3219/3219 [==============================] - 1s 332us/step - loss: 0.6597 - accuracy: 0.6210\n",
      "Epoch 26/100\n",
      "3219/3219 [==============================] - 1s 314us/step - loss: 0.6533 - accuracy: 0.6331\n",
      "Epoch 27/100\n",
      "3219/3219 [==============================] - 1s 358us/step - loss: 0.6825 - accuracy: 0.6182\n",
      "Epoch 28/100\n",
      "3219/3219 [==============================] - 1s 345us/step - loss: 0.6695 - accuracy: 0.6120\n",
      "Epoch 29/100\n",
      "3219/3219 [==============================] - 1s 362us/step - loss: 0.6684 - accuracy: 0.6201\n",
      "Epoch 30/100\n",
      "3219/3219 [==============================] - 1s 348us/step - loss: 0.6659 - accuracy: 0.6207\n",
      "Epoch 31/100\n",
      "3219/3219 [==============================] - 1s 318us/step - loss: 0.6650 - accuracy: 0.6198\n",
      "Epoch 32/100\n",
      "3219/3219 [==============================] - 1s 315us/step - loss: 0.6666 - accuracy: 0.6179\n",
      "Epoch 33/100\n",
      "3219/3219 [==============================] - 1s 316us/step - loss: 0.6639 - accuracy: 0.6213\n",
      "Epoch 34/100\n",
      "3219/3219 [==============================] - 1s 336us/step - loss: 0.6619 - accuracy: 0.6263\n",
      "Epoch 35/100\n",
      "3219/3219 [==============================] - 1s 335us/step - loss: 0.6603 - accuracy: 0.6257\n",
      "Epoch 36/100\n",
      "3219/3219 [==============================] - 1s 348us/step - loss: 0.6593 - accuracy: 0.6263\n",
      "Epoch 37/100\n",
      "3219/3219 [==============================] - 1s 337us/step - loss: 0.6545 - accuracy: 0.6319\n",
      "Epoch 38/100\n",
      "3219/3219 [==============================] - 1s 325us/step - loss: 0.6544 - accuracy: 0.6365\n",
      "Epoch 39/100\n",
      "3219/3219 [==============================] - 1s 341us/step - loss: 0.6506 - accuracy: 0.6421\n",
      "Epoch 40/100\n",
      "3219/3219 [==============================] - 1s 331us/step - loss: 0.6508 - accuracy: 0.6365\n",
      "Epoch 41/100\n",
      "3219/3219 [==============================] - 1s 328us/step - loss: 0.6501 - accuracy: 0.6384\n",
      "Epoch 42/100\n",
      "3219/3219 [==============================] - 1s 315us/step - loss: 0.6509 - accuracy: 0.6421\n",
      "Epoch 43/100\n",
      "3219/3219 [==============================] - 1s 347us/step - loss: 0.6489 - accuracy: 0.6443\n",
      "Epoch 44/100\n",
      "3219/3219 [==============================] - 1s 346us/step - loss: 0.6485 - accuracy: 0.6406\n",
      "Epoch 45/100\n",
      "3219/3219 [==============================] - 1s 347us/step - loss: 0.6506 - accuracy: 0.6431\n",
      "Epoch 46/100\n",
      "3219/3219 [==============================] - 1s 344us/step - loss: 0.6711 - accuracy: 0.6424\n",
      "Epoch 47/100\n",
      "3219/3219 [==============================] - 1s 327us/step - loss: 0.6720 - accuracy: 0.6067\n",
      "Epoch 48/100\n",
      "3219/3219 [==============================] - 1s 347us/step - loss: 0.6652 - accuracy: 0.6201\n",
      "Epoch 49/100\n",
      "3219/3219 [==============================] - 1s 326us/step - loss: 0.6621 - accuracy: 0.6204\n",
      "Epoch 50/100\n",
      "3219/3219 [==============================] - 1s 325us/step - loss: 0.6614 - accuracy: 0.6198\n",
      "Epoch 51/100\n",
      "3219/3219 [==============================] - 1s 340us/step - loss: 0.6609 - accuracy: 0.6201\n",
      "Epoch 52/100\n",
      "3219/3219 [==============================] - 1s 345us/step - loss: 0.6604 - accuracy: 0.6213\n",
      "Epoch 53/100\n",
      "3219/3219 [==============================] - 1s 334us/step - loss: 0.6609 - accuracy: 0.6194\n",
      "Epoch 54/100\n",
      "3219/3219 [==============================] - 1s 339us/step - loss: 0.6606 - accuracy: 0.6198\n",
      "Epoch 55/100\n",
      "3219/3219 [==============================] - 1s 341us/step - loss: 0.6603 - accuracy: 0.6204\n",
      "Epoch 56/100\n",
      "3219/3219 [==============================] - 1s 351us/step - loss: 0.6592 - accuracy: 0.6232\n",
      "Epoch 57/100\n",
      "3219/3219 [==============================] - 1s 342us/step - loss: 0.6592 - accuracy: 0.6204\n",
      "Epoch 58/100\n",
      "3219/3219 [==============================] - 1s 341us/step - loss: 0.6581 - accuracy: 0.6244\n",
      "Epoch 59/100\n",
      "3219/3219 [==============================] - 1s 331us/step - loss: 0.6575 - accuracy: 0.6219\n",
      "Epoch 60/100\n",
      "3219/3219 [==============================] - 1s 331us/step - loss: 0.6583 - accuracy: 0.6241\n",
      "Epoch 61/100\n",
      "3219/3219 [==============================] - 1s 334us/step - loss: 0.6575 - accuracy: 0.6250\n",
      "Epoch 62/100\n",
      "3219/3219 [==============================] - 1s 336us/step - loss: 0.6562 - accuracy: 0.6260\n",
      "Epoch 63/100\n",
      "3219/3219 [==============================] - 1s 343us/step - loss: 0.6590 - accuracy: 0.6257\n",
      "Epoch 64/100\n",
      "3219/3219 [==============================] - 1s 336us/step - loss: 0.6573 - accuracy: 0.6260\n",
      "Epoch 65/100\n",
      "3219/3219 [==============================] - 1s 338us/step - loss: 0.6565 - accuracy: 0.6250\n",
      "Epoch 66/100\n",
      "3219/3219 [==============================] - 1s 344us/step - loss: 0.6580 - accuracy: 0.6232\n",
      "Epoch 67/100\n",
      "3219/3219 [==============================] - 1s 335us/step - loss: 0.6582 - accuracy: 0.6244\n",
      "Epoch 68/100\n",
      "3219/3219 [==============================] - 1s 357us/step - loss: 0.6597 - accuracy: 0.6253\n",
      "Epoch 69/100\n",
      "3219/3219 [==============================] - 1s 352us/step - loss: 0.6582 - accuracy: 0.6253\n",
      "Epoch 70/100\n",
      "3219/3219 [==============================] - 1s 353us/step - loss: 0.6630 - accuracy: 0.6216\n",
      "Epoch 71/100\n",
      "3219/3219 [==============================] - 1s 346us/step - loss: 0.6675 - accuracy: 0.6132\n",
      "Epoch 72/100\n",
      "3219/3219 [==============================] - 1s 337us/step - loss: 0.6577 - accuracy: 0.6235\n",
      "Epoch 73/100\n",
      "3219/3219 [==============================] - 1s 351us/step - loss: 0.6559 - accuracy: 0.6316\n",
      "Epoch 74/100\n",
      "3219/3219 [==============================] - 1s 379us/step - loss: 0.6557 - accuracy: 0.6294\n",
      "Epoch 75/100\n",
      "3219/3219 [==============================] - 1s 370us/step - loss: 0.6548 - accuracy: 0.6359\n",
      "Epoch 76/100\n",
      "3219/3219 [==============================] - 1s 340us/step - loss: 0.9031 - accuracy: 0.6353\n",
      "Epoch 77/100\n",
      "3219/3219 [==============================] - 1s 341us/step - loss: 0.6694 - accuracy: 0.6067\n",
      "Epoch 78/100\n"
     ]
    },
    {
     "name": "stdout",
     "output_type": "stream",
     "text": [
      "3219/3219 [==============================] - 1s 394us/step - loss: 0.6673 - accuracy: 0.6163\n",
      "Epoch 79/100\n",
      "3219/3219 [==============================] - 2s 500us/step - loss: 0.6669 - accuracy: 0.61390s - loss: 0.6692 - ac\n",
      "Epoch 80/100\n",
      "3219/3219 [==============================] - 1s 426us/step - loss: 0.6659 - accuracy: 0.6204\n",
      "Epoch 81/100\n",
      "3219/3219 [==============================] - 1s 349us/step - loss: 0.6661 - accuracy: 0.6201\n",
      "Epoch 82/100\n",
      "3219/3219 [==============================] - 1s 350us/step - loss: 0.6661 - accuracy: 0.6198\n",
      "Epoch 83/100\n",
      "3219/3219 [==============================] - 1s 357us/step - loss: 0.6652 - accuracy: 0.6204\n",
      "Epoch 84/100\n",
      "3219/3219 [==============================] - 1s 348us/step - loss: 0.6640 - accuracy: 0.6207\n",
      "Epoch 85/100\n",
      "3219/3219 [==============================] - 1s 328us/step - loss: 0.6646 - accuracy: 0.6226\n",
      "Epoch 86/100\n",
      "3219/3219 [==============================] - 1s 338us/step - loss: 0.6614 - accuracy: 0.6241\n",
      "Epoch 87/100\n",
      "3219/3219 [==============================] - 1s 364us/step - loss: 0.6600 - accuracy: 0.6294\n",
      "Epoch 88/100\n",
      "3219/3219 [==============================] - 1s 336us/step - loss: 0.6540 - accuracy: 0.6390\n",
      "Epoch 89/100\n",
      "3219/3219 [==============================] - 1s 325us/step - loss: 0.6519 - accuracy: 0.6440\n",
      "Epoch 90/100\n",
      "3219/3219 [==============================] - 1s 315us/step - loss: 0.6519 - accuracy: 0.6412\n",
      "Epoch 91/100\n",
      "3219/3219 [==============================] - 1s 316us/step - loss: 0.6515 - accuracy: 0.6421\n",
      "Epoch 92/100\n",
      "3219/3219 [==============================] - 1s 334us/step - loss: 0.6497 - accuracy: 0.6427\n",
      "Epoch 93/100\n",
      "3219/3219 [==============================] - 1s 318us/step - loss: 0.6490 - accuracy: 0.6400\n",
      "Epoch 94/100\n",
      "3219/3219 [==============================] - 1s 323us/step - loss: 0.6524 - accuracy: 0.6409\n",
      "Epoch 95/100\n",
      "3219/3219 [==============================] - 1s 346us/step - loss: 0.6511 - accuracy: 0.6406\n",
      "Epoch 96/100\n",
      "3219/3219 [==============================] - 1s 346us/step - loss: 0.6496 - accuracy: 0.6415\n",
      "Epoch 97/100\n",
      "3219/3219 [==============================] - 1s 332us/step - loss: 0.6700 - accuracy: 0.6353\n",
      "Epoch 98/100\n",
      "3219/3219 [==============================] - 1s 307us/step - loss: 0.6795 - accuracy: 0.5909\n",
      "Epoch 99/100\n",
      "3219/3219 [==============================] - 1s 316us/step - loss: 0.6664 - accuracy: 0.6126\n",
      "Epoch 100/100\n",
      "3219/3219 [==============================] - 1s 324us/step - loss: 0.6627 - accuracy: 0.6191\n"
     ]
    },
    {
     "data": {
      "text/plain": [
       "<keras.callbacks.callbacks.History at 0x254587e0ac8>"
      ]
     },
     "execution_count": 12,
     "metadata": {},
     "output_type": "execute_result"
    }
   ],
   "source": [
    "classifier.fit(\n",
    "                x_train,\n",
    "                y_train,\n",
    "                batch_size= 10,\n",
    "                epochs = 100\n",
    "            )"
   ]
  },
  {
   "cell_type": "code",
   "execution_count": 13,
   "id": "5c075453",
   "metadata": {},
   "outputs": [],
   "source": [
    "y_pred = classifier.predict(x_test)"
   ]
  },
  {
   "cell_type": "code",
   "execution_count": 14,
   "id": "9878a01c",
   "metadata": {},
   "outputs": [],
   "source": [
    "y_pred = (y_pred > 0.5)"
   ]
  },
  {
   "cell_type": "code",
   "execution_count": 15,
   "id": "2a0c0f4b",
   "metadata": {},
   "outputs": [
    {
     "data": {
      "text/plain": [
       "array([[ True],\n",
       "       [ True],\n",
       "       [False],\n",
       "       ...,\n",
       "       [ True],\n",
       "       [ True],\n",
       "       [ True]])"
      ]
     },
     "execution_count": 15,
     "metadata": {},
     "output_type": "execute_result"
    }
   ],
   "source": [
    "y_pred"
   ]
  },
  {
   "cell_type": "code",
   "execution_count": 16,
   "id": "9231ba92",
   "metadata": {},
   "outputs": [
    {
     "data": {
      "text/plain": [
       "array([[111, 467],\n",
       "       [ 61, 741]], dtype=int64)"
      ]
     },
     "execution_count": 16,
     "metadata": {},
     "output_type": "execute_result"
    }
   ],
   "source": [
    "from sklearn.metrics import confusion_matrix\n",
    "cm = confusion_matrix(y_test, y_pred)\n",
    "cm"
   ]
  },
  {
   "cell_type": "code",
   "execution_count": 17,
   "id": "b573fe81",
   "metadata": {},
   "outputs": [
    {
     "name": "stdout",
     "output_type": "stream",
     "text": [
      "[[False]]\n"
     ]
    }
   ],
   "source": [
    "#Predicting result for Single Observation\n",
    "print(classifier.predict(sc.fit_transform([[8, 50000, 104, 449, 2, 2014, 2015, 2017, 2, 1, 1]])) > 0.5)"
   ]
  },
  {
   "cell_type": "code",
   "execution_count": 20,
   "id": "08892d23",
   "metadata": {},
   "outputs": [],
   "source": [
    "from keras.wrappers.scikit_learn import KerasClassifier\n",
    "from sklearn.model_selection import cross_val_score\n",
    "from keras.models import Sequential\n",
    "from keras.layers import Dense"
   ]
  },
  {
   "cell_type": "code",
   "execution_count": 21,
   "id": "38a78367",
   "metadata": {},
   "outputs": [],
   "source": [
    "def build_classifier():\n",
    "    classifier = Sequential()\n",
    "    \n",
    "    classifier.add(Dense(\n",
    "        units = 6,\n",
    "        kernel_initializer=\"uniform\",\n",
    "        activation=\"relu\",\n",
    "        input_dim = 11\n",
    "        ))\n",
    "    \n",
    "    classifier.add(Dense(\n",
    "        units = 6,\n",
    "        kernel_initializer=\"uniform\",\n",
    "        activation=\"relu\"\n",
    "        ))\n",
    "    \n",
    "    classifier.add(Dense(\n",
    "        units = 1,\n",
    "        kernel_initializer=\"uniform\",\n",
    "        activation=\"sigmoid\"\n",
    "        ))\n",
    "    \n",
    "    classifier.compile(\n",
    "        optimizer = \"adam\",\n",
    "        loss=\"binary_crossentropy\",\n",
    "        metrics=['accuracy']\n",
    "        )\n",
    "    \n",
    "    return classifier"
   ]
  },
  {
   "cell_type": "code",
   "execution_count": 22,
   "id": "4a5b3b6c",
   "metadata": {
    "scrolled": true
   },
   "outputs": [
    {
     "name": "stdout",
     "output_type": "stream",
     "text": [
      "Epoch 1/1\n",
      "2897/2897 [==============================] - 1s 367us/step - loss: 11.6458 - accuracy: 0.5488\n",
      "322/322 [==============================] - 0s 169us/step\n",
      "Epoch 1/1\n",
      "2897/2897 [==============================] - 1s 351us/step - loss: 74.7987 - accuracy: 0.5157\n",
      "322/322 [==============================] - 0s 167us/step\n",
      "Epoch 1/1\n",
      "2897/2897 [==============================] - 1s 367us/step - loss: 2.6188 - accuracy: 0.5651\n",
      "322/322 [==============================] - 0s 159us/step\n",
      "Epoch 1/1\n",
      "2897/2897 [==============================] - 1s 390us/step - loss: 5.1021 - accuracy: 0.5599\n",
      "322/322 [==============================] - 0s 165us/step\n",
      "Epoch 1/1\n",
      "2897/2897 [==============================] - 1s 374us/step - loss: 1.6299 - accuracy: 0.6068\n",
      "322/322 [==============================] - 0s 157us/step\n",
      "Epoch 1/1\n",
      "2897/2897 [==============================] - 1s 356us/step - loss: 59.2206 - accuracy: 0.5675\n",
      "322/322 [==============================] - 0s 175us/step\n",
      "Epoch 1/1\n",
      "2897/2897 [==============================] - 1s 366us/step - loss: 234.4701 - accuracy: 0.5029\n",
      "322/322 [==============================] - 0s 171us/step\n",
      "Epoch 1/1\n",
      "2897/2897 [==============================] - 1s 381us/step - loss: 32.2520 - accuracy: 0.5709\n",
      "322/322 [==============================] - 0s 161us/step\n",
      "Epoch 1/1\n",
      "2897/2897 [==============================] - 1s 387us/step - loss: 1.9079 - accuracy: 0.5671\n",
      "322/322 [==============================] - 0s 163us/step\n",
      "Epoch 1/1\n",
      "2898/2898 [==============================] - 1s 358us/step - loss: 23.0571 - accuracy: 0.5783\n",
      "321/321 [==============================] - 0s 158us/step\n"
     ]
    }
   ],
   "source": [
    "classifier = KerasClassifier(\n",
    "        build_fn=build_classifier,\n",
    "        batch_size = 10,\n",
    "        nb_epoch = 100)\n",
    "\n",
    "accuracies = cross_val_score(\n",
    "        estimator=classifier,\n",
    "        X=x_train,\n",
    "        y=y_train,\n",
    "        cv=10,\n",
    "        n_jobs=1)\n"
   ]
  },
  {
   "cell_type": "code",
   "execution_count": 23,
   "id": "0d85dba1",
   "metadata": {},
   "outputs": [],
   "source": [
    "mean = accuracies.mean()\n",
    "variance= accuracies.std()"
   ]
  },
  {
   "cell_type": "code",
   "execution_count": 24,
   "id": "517945e4",
   "metadata": {},
   "outputs": [
    {
     "data": {
      "text/plain": [
       "0.5831079125404358"
      ]
     },
     "execution_count": 24,
     "metadata": {},
     "output_type": "execute_result"
    }
   ],
   "source": [
    "mean"
   ]
  },
  {
   "cell_type": "code",
   "execution_count": 25,
   "id": "3d0cf457",
   "metadata": {},
   "outputs": [
    {
     "data": {
      "text/plain": [
       "0.07289410433819694"
      ]
     },
     "execution_count": 25,
     "metadata": {},
     "output_type": "execute_result"
    }
   ],
   "source": [
    "variance"
   ]
  },
  {
   "cell_type": "code",
   "execution_count": null,
   "id": "28ea96eb",
   "metadata": {},
   "outputs": [],
   "source": []
  },
  {
   "cell_type": "code",
   "execution_count": null,
   "id": "c889b581",
   "metadata": {},
   "outputs": [],
   "source": []
  },
  {
   "cell_type": "code",
   "execution_count": null,
   "id": "f37ff497",
   "metadata": {},
   "outputs": [],
   "source": []
  }
 ],
 "metadata": {
  "kernelspec": {
   "display_name": "Python 3 (ipykernel)",
   "language": "python",
   "name": "python3"
  },
  "language_info": {
   "codemirror_mode": {
    "name": "ipython",
    "version": 3
   },
   "file_extension": ".py",
   "mimetype": "text/x-python",
   "name": "python",
   "nbconvert_exporter": "python",
   "pygments_lexer": "ipython3",
   "version": "3.7.11"
  }
 },
 "nbformat": 4,
 "nbformat_minor": 5
}
