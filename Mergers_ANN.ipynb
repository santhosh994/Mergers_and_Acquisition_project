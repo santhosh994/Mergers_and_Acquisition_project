{
 "cells": [
  {
   "cell_type": "code",
   "execution_count": 1,
   "id": "d984ece2",
   "metadata": {},
   "outputs": [],
   "source": [
    "import numpy as np\n",
    "import pandas as pd\n",
    "import matplotlib.pyplot as plt"
   ]
  },
  {
   "cell_type": "code",
   "execution_count": 2,
   "id": "1cc2e371",
   "metadata": {},
   "outputs": [],
   "source": [
    "df_ann = pd.read_csv(\"df_knn.csv\")"
   ]
  },
  {
   "cell_type": "code",
   "execution_count": 3,
   "id": "3ae84461",
   "metadata": {},
   "outputs": [
    {
     "data": {
      "text/html": [
       "<div>\n",
       "<style scoped>\n",
       "    .dataframe tbody tr th:only-of-type {\n",
       "        vertical-align: middle;\n",
       "    }\n",
       "\n",
       "    .dataframe tbody tr th {\n",
       "        vertical-align: top;\n",
       "    }\n",
       "\n",
       "    .dataframe thead th {\n",
       "        text-align: right;\n",
       "    }\n",
       "</style>\n",
       "<table border=\"1\" class=\"dataframe\">\n",
       "  <thead>\n",
       "    <tr style=\"text-align: right;\">\n",
       "      <th></th>\n",
       "      <th>market</th>\n",
       "      <th>funding_total_usd</th>\n",
       "      <th>region</th>\n",
       "      <th>city</th>\n",
       "      <th>funding_rounds</th>\n",
       "      <th>Founding_year</th>\n",
       "      <th>first_funding_year</th>\n",
       "      <th>last_funding_year</th>\n",
       "      <th>first_funding_gap</th>\n",
       "      <th>last_funding_gap</th>\n",
       "      <th>first_last_funding_gap</th>\n",
       "      <th>success</th>\n",
       "    </tr>\n",
       "  </thead>\n",
       "  <tbody>\n",
       "    <tr>\n",
       "      <th>0</th>\n",
       "      <td>226</td>\n",
       "      <td>1750000</td>\n",
       "      <td>104</td>\n",
       "      <td>449</td>\n",
       "      <td>1</td>\n",
       "      <td>2012</td>\n",
       "      <td>2012</td>\n",
       "      <td>2012</td>\n",
       "      <td>0</td>\n",
       "      <td>0</td>\n",
       "      <td>0</td>\n",
       "      <td>1</td>\n",
       "    </tr>\n",
       "    <tr>\n",
       "      <th>1</th>\n",
       "      <td>309</td>\n",
       "      <td>7000000</td>\n",
       "      <td>51</td>\n",
       "      <td>469</td>\n",
       "      <td>1</td>\n",
       "      <td>2011</td>\n",
       "      <td>2013</td>\n",
       "      <td>2013</td>\n",
       "      <td>2</td>\n",
       "      <td>2</td>\n",
       "      <td>0</td>\n",
       "      <td>0</td>\n",
       "    </tr>\n",
       "    <tr>\n",
       "      <th>2</th>\n",
       "      <td>79</td>\n",
       "      <td>2535000</td>\n",
       "      <td>131</td>\n",
       "      <td>569</td>\n",
       "      <td>2</td>\n",
       "      <td>2010</td>\n",
       "      <td>2010</td>\n",
       "      <td>2011</td>\n",
       "      <td>0</td>\n",
       "      <td>1</td>\n",
       "      <td>1</td>\n",
       "      <td>1</td>\n",
       "    </tr>\n",
       "    <tr>\n",
       "      <th>3</th>\n",
       "      <td>8</td>\n",
       "      <td>1250000</td>\n",
       "      <td>131</td>\n",
       "      <td>569</td>\n",
       "      <td>2</td>\n",
       "      <td>2011</td>\n",
       "      <td>2011</td>\n",
       "      <td>2011</td>\n",
       "      <td>0</td>\n",
       "      <td>0</td>\n",
       "      <td>0</td>\n",
       "      <td>1</td>\n",
       "    </tr>\n",
       "    <tr>\n",
       "      <th>4</th>\n",
       "      <td>79</td>\n",
       "      <td>50000</td>\n",
       "      <td>32</td>\n",
       "      <td>145</td>\n",
       "      <td>1</td>\n",
       "      <td>2009</td>\n",
       "      <td>2009</td>\n",
       "      <td>2009</td>\n",
       "      <td>0</td>\n",
       "      <td>0</td>\n",
       "      <td>0</td>\n",
       "      <td>0</td>\n",
       "    </tr>\n",
       "  </tbody>\n",
       "</table>\n",
       "</div>"
      ],
      "text/plain": [
       "   market  funding_total_usd  region  city  funding_rounds  Founding_year  \\\n",
       "0     226            1750000     104   449               1           2012   \n",
       "1     309            7000000      51   469               1           2011   \n",
       "2      79            2535000     131   569               2           2010   \n",
       "3       8            1250000     131   569               2           2011   \n",
       "4      79              50000      32   145               1           2009   \n",
       "\n",
       "   first_funding_year  last_funding_year  first_funding_gap  last_funding_gap  \\\n",
       "0                2012               2012                  0                 0   \n",
       "1                2013               2013                  2                 2   \n",
       "2                2010               2011                  0                 1   \n",
       "3                2011               2011                  0                 0   \n",
       "4                2009               2009                  0                 0   \n",
       "\n",
       "   first_last_funding_gap  success  \n",
       "0                       0        1  \n",
       "1                       0        0  \n",
       "2                       1        1  \n",
       "3                       0        1  \n",
       "4                       0        0  "
      ]
     },
     "execution_count": 3,
     "metadata": {},
     "output_type": "execute_result"
    }
   ],
   "source": [
    "df_ann.head()"
   ]
  },
  {
   "cell_type": "code",
   "execution_count": 4,
   "id": "e88e2c84",
   "metadata": {},
   "outputs": [
    {
     "data": {
      "text/plain": [
       "Index(['market', 'funding_total_usd', 'region', 'city', 'funding_rounds',\n",
       "       'Founding_year', 'first_funding_year', 'last_funding_year',\n",
       "       'first_funding_gap', 'last_funding_gap', 'first_last_funding_gap',\n",
       "       'success'],\n",
       "      dtype='object')"
      ]
     },
     "execution_count": 4,
     "metadata": {},
     "output_type": "execute_result"
    }
   ],
   "source": [
    "df_ann.columns"
   ]
  },
  {
   "cell_type": "code",
   "execution_count": 5,
   "id": "ae97e120",
   "metadata": {},
   "outputs": [],
   "source": [
    "from sklearn.model_selection import train_test_split\n",
    "x = df_ann.drop('success', axis = 1)\n",
    "y = df_ann['success']\n",
    "x_train, x_test, y_train, y_test = train_test_split(x, y, test_size = 0.3)"
   ]
  },
  {
   "cell_type": "code",
   "execution_count": 6,
   "id": "f9d97be0",
   "metadata": {},
   "outputs": [],
   "source": [
    "# Feature Scaling\n",
    "from sklearn.preprocessing import StandardScaler\n",
    "sc = StandardScaler()\n",
    "X_train_scaled = sc.fit_transform(x_train)\n",
    "X_test_scaled = sc.transform(x_test)"
   ]
  },
  {
   "cell_type": "code",
   "execution_count": 7,
   "id": "4cd6d209",
   "metadata": {},
   "outputs": [],
   "source": [
    "#!pip install h5py"
   ]
  },
  {
   "cell_type": "code",
   "execution_count": 8,
   "id": "0db1cb00",
   "metadata": {},
   "outputs": [
    {
     "name": "stderr",
     "output_type": "stream",
     "text": [
      "Using TensorFlow backend.\n"
     ]
    }
   ],
   "source": [
    "##building an ANN\n",
    "import keras\n",
    "from keras.models import Sequential\n",
    "from keras.layers import Dense"
   ]
  },
  {
   "cell_type": "code",
   "execution_count": 9,
   "id": "4b09909a",
   "metadata": {},
   "outputs": [],
   "source": [
    "classifier = Sequential()"
   ]
  },
  {
   "cell_type": "code",
   "execution_count": 10,
   "id": "51a08e6a",
   "metadata": {},
   "outputs": [],
   "source": [
    "classifier.add(Dense(\n",
    "                    units=6,\n",
    "                    kernel_initializer=\"uniform\",\n",
    "                    activation=\"relu\",\n",
    "                    input_dim = 11\n",
    "                    ))\n",
    "#adding second hidden layer\n",
    "classifier.add(Dense(\n",
    "                    units=6,\n",
    "                    kernel_initializer=\"uniform\",\n",
    "                    activation=\"relu\",\n",
    "                    ))\n",
    "\n",
    "#adding output layer\n",
    "classifier.add(Dense(\n",
    "                    units=1,\n",
    "                    kernel_initializer=\"uniform\",\n",
    "                    activation=\"sigmoid\",\n",
    "                    ))"
   ]
  },
  {
   "cell_type": "code",
   "execution_count": 11,
   "id": "c30e7b5d",
   "metadata": {},
   "outputs": [],
   "source": [
    "#compile ANN\n",
    "classifier.compile(\n",
    "                optimizer = \"adam\",\n",
    "                loss = \"binary_crossentropy\",\n",
    "                metrics = ['accuracy']\n",
    "                )"
   ]
  },
  {
   "cell_type": "code",
   "execution_count": 12,
   "id": "c3f8d353",
   "metadata": {
    "scrolled": true
   },
   "outputs": [
    {
     "name": "stdout",
     "output_type": "stream",
     "text": [
      "Epoch 1/100\n",
      "3219/3219 [==============================] - 2s 617us/step - loss: 122.5757 - accuracy: 0.5694\n",
      "Epoch 2/100\n",
      "3219/3219 [==============================] - 1s 406us/step - loss: 12.0271 - accuracy: 0.5691\n",
      "Epoch 3/100\n",
      "3219/3219 [==============================] - 1s 394us/step - loss: 6.3291 - accuracy: 0.5794\n",
      "Epoch 4/100\n",
      "3219/3219 [==============================] - 1s 435us/step - loss: 4.4804 - accuracy: 0.5812\n",
      "Epoch 5/100\n",
      "3219/3219 [==============================] - 1s 447us/step - loss: 7.0531 - accuracy: 0.5629\n",
      "Epoch 6/100\n",
      "3219/3219 [==============================] - 1s 450us/step - loss: 0.7017 - accuracy: 0.4240\n",
      "Epoch 7/100\n",
      "3219/3219 [==============================] - 2s 470us/step - loss: 0.6923 - accuracy: 0.5207\n",
      "Epoch 8/100\n",
      "3219/3219 [==============================] - 2s 587us/step - loss: 0.6869 - accuracy: 0.5760\n",
      "Epoch 9/100\n",
      "3219/3219 [==============================] - 1s 457us/step - loss: 0.6841 - accuracy: 0.5760\n",
      "Epoch 10/100\n",
      "3219/3219 [==============================] - 2s 474us/step - loss: 0.6827 - accuracy: 0.5760\n",
      "Epoch 11/100\n",
      "3219/3219 [==============================] - 1s 414us/step - loss: 0.6821 - accuracy: 0.5760\n",
      "Epoch 12/100\n",
      "3219/3219 [==============================] - 1s 439us/step - loss: 0.6818 - accuracy: 0.5760\n",
      "Epoch 13/100\n",
      "3219/3219 [==============================] - 1s 416us/step - loss: 0.6817 - accuracy: 0.5760\n",
      "Epoch 14/100\n",
      "3219/3219 [==============================] - 1s 421us/step - loss: 0.6816 - accuracy: 0.5760\n",
      "Epoch 15/100\n",
      "3219/3219 [==============================] - 1s 425us/step - loss: 0.6816 - accuracy: 0.5760\n",
      "Epoch 16/100\n",
      "3219/3219 [==============================] - 1s 420us/step - loss: 0.6816 - accuracy: 0.5760\n",
      "Epoch 17/100\n",
      "3219/3219 [==============================] - 1s 426us/step - loss: 0.6816 - accuracy: 0.5760\n",
      "Epoch 18/100\n",
      "3219/3219 [==============================] - 1s 439us/step - loss: 0.6816 - accuracy: 0.5760\n",
      "Epoch 19/100\n",
      "3219/3219 [==============================] - 1s 404us/step - loss: 0.6817 - accuracy: 0.5760\n",
      "Epoch 20/100\n",
      "3219/3219 [==============================] - 1s 417us/step - loss: 0.6816 - accuracy: 0.5760\n",
      "Epoch 21/100\n",
      "3219/3219 [==============================] - 1s 416us/step - loss: 0.6816 - accuracy: 0.5760\n",
      "Epoch 22/100\n",
      "3219/3219 [==============================] - 1s 403us/step - loss: 0.6816 - accuracy: 0.5760\n",
      "Epoch 23/100\n",
      "3219/3219 [==============================] - 1s 423us/step - loss: 0.6816 - accuracy: 0.5760\n",
      "Epoch 24/100\n",
      "3219/3219 [==============================] - 1s 427us/step - loss: 0.6816 - accuracy: 0.5760\n",
      "Epoch 25/100\n",
      "3219/3219 [==============================] - 1s 408us/step - loss: 0.6816 - accuracy: 0.5760\n",
      "Epoch 26/100\n",
      "3219/3219 [==============================] - 1s 434us/step - loss: 0.6816 - accuracy: 0.5760\n",
      "Epoch 27/100\n",
      "3219/3219 [==============================] - 1s 414us/step - loss: 0.6817 - accuracy: 0.5760\n",
      "Epoch 28/100\n",
      "3219/3219 [==============================] - 1s 400us/step - loss: 0.6817 - accuracy: 0.5760\n",
      "Epoch 29/100\n",
      "3219/3219 [==============================] - 1s 409us/step - loss: 0.6817 - accuracy: 0.5760\n",
      "Epoch 30/100\n",
      "3219/3219 [==============================] - 1s 419us/step - loss: 0.6817 - accuracy: 0.5760\n",
      "Epoch 31/100\n",
      "3219/3219 [==============================] - 1s 411us/step - loss: 0.6816 - accuracy: 0.5760\n",
      "Epoch 32/100\n",
      "3219/3219 [==============================] - 1s 398us/step - loss: 0.6817 - accuracy: 0.5760\n",
      "Epoch 33/100\n",
      "3219/3219 [==============================] - 1s 429us/step - loss: 0.6816 - accuracy: 0.5760\n",
      "Epoch 34/100\n",
      "3219/3219 [==============================] - 1s 403us/step - loss: 0.6816 - accuracy: 0.5760\n",
      "Epoch 35/100\n",
      "3219/3219 [==============================] - 1s 393us/step - loss: 0.6817 - accuracy: 0.5760\n",
      "Epoch 36/100\n",
      "3219/3219 [==============================] - 1s 389us/step - loss: 0.6816 - accuracy: 0.5760\n",
      "Epoch 37/100\n",
      "3219/3219 [==============================] - 1s 391us/step - loss: 0.6816 - accuracy: 0.5760\n",
      "Epoch 38/100\n",
      "3219/3219 [==============================] - 1s 397us/step - loss: 0.6816 - accuracy: 0.5760\n",
      "Epoch 39/100\n",
      "3219/3219 [==============================] - 1s 377us/step - loss: 0.6816 - accuracy: 0.5760\n",
      "Epoch 40/100\n",
      "3219/3219 [==============================] - 1s 395us/step - loss: 0.6816 - accuracy: 0.5760\n",
      "Epoch 41/100\n",
      "3219/3219 [==============================] - 1s 409us/step - loss: 0.6816 - accuracy: 0.5760\n",
      "Epoch 42/100\n",
      "3219/3219 [==============================] - 1s 392us/step - loss: 0.6816 - accuracy: 0.5760\n",
      "Epoch 43/100\n",
      "3219/3219 [==============================] - 1s 398us/step - loss: 0.6816 - accuracy: 0.5760\n",
      "Epoch 44/100\n",
      "3219/3219 [==============================] - 1s 399us/step - loss: 0.6816 - accuracy: 0.5760\n",
      "Epoch 45/100\n",
      "3219/3219 [==============================] - 1s 397us/step - loss: 0.6817 - accuracy: 0.5760\n",
      "Epoch 46/100\n",
      "3219/3219 [==============================] - 1s 389us/step - loss: 0.6817 - accuracy: 0.5760\n",
      "Epoch 47/100\n",
      "3219/3219 [==============================] - 1s 385us/step - loss: 0.6816 - accuracy: 0.5760\n",
      "Epoch 48/100\n",
      "3219/3219 [==============================] - 1s 398us/step - loss: 0.6816 - accuracy: 0.5760\n",
      "Epoch 49/100\n",
      "3219/3219 [==============================] - 1s 416us/step - loss: 0.6816 - accuracy: 0.5760\n",
      "Epoch 50/100\n",
      "3219/3219 [==============================] - 1s 390us/step - loss: 0.6816 - accuracy: 0.5760\n",
      "Epoch 51/100\n",
      "3219/3219 [==============================] - 1s 413us/step - loss: 0.6816 - accuracy: 0.5760\n",
      "Epoch 52/100\n",
      "3219/3219 [==============================] - 1s 402us/step - loss: 0.6816 - accuracy: 0.5760\n",
      "Epoch 53/100\n",
      "3219/3219 [==============================] - 1s 401us/step - loss: 0.6816 - accuracy: 0.5760\n",
      "Epoch 54/100\n",
      "3219/3219 [==============================] - 1s 395us/step - loss: 0.6816 - accuracy: 0.5760\n",
      "Epoch 55/100\n",
      "3219/3219 [==============================] - 1s 404us/step - loss: 0.6817 - accuracy: 0.5760\n",
      "Epoch 56/100\n",
      "3219/3219 [==============================] - 1s 394us/step - loss: 0.6816 - accuracy: 0.5760\n",
      "Epoch 57/100\n",
      "3219/3219 [==============================] - 1s 378us/step - loss: 0.6816 - accuracy: 0.5760\n",
      "Epoch 58/100\n",
      "3219/3219 [==============================] - 1s 371us/step - loss: 0.6817 - accuracy: 0.5760\n",
      "Epoch 59/100\n",
      "3219/3219 [==============================] - 1s 377us/step - loss: 0.6816 - accuracy: 0.5760\n",
      "Epoch 60/100\n",
      "3219/3219 [==============================] - 1s 388us/step - loss: 0.6816 - accuracy: 0.5760\n",
      "Epoch 61/100\n",
      "3219/3219 [==============================] - 1s 383us/step - loss: 0.6816 - accuracy: 0.5760\n",
      "Epoch 62/100\n",
      "3219/3219 [==============================] - 1s 391us/step - loss: 0.6816 - accuracy: 0.5760\n",
      "Epoch 63/100\n",
      "3219/3219 [==============================] - 1s 400us/step - loss: 0.6816 - accuracy: 0.5760\n",
      "Epoch 64/100\n",
      "3219/3219 [==============================] - 1s 387us/step - loss: 0.6817 - accuracy: 0.5760\n",
      "Epoch 65/100\n",
      "3219/3219 [==============================] - 1s 375us/step - loss: 0.6816 - accuracy: 0.5760\n",
      "Epoch 66/100\n",
      "3219/3219 [==============================] - 1s 385us/step - loss: 0.6816 - accuracy: 0.5760\n",
      "Epoch 67/100\n",
      "3219/3219 [==============================] - 1s 402us/step - loss: 0.6816 - accuracy: 0.5760\n",
      "Epoch 68/100\n",
      "3219/3219 [==============================] - 1s 395us/step - loss: 0.6816 - accuracy: 0.5760\n",
      "Epoch 69/100\n",
      "3219/3219 [==============================] - 1s 400us/step - loss: 0.6816 - accuracy: 0.5760\n",
      "Epoch 70/100\n",
      "3219/3219 [==============================] - 1s 425us/step - loss: 0.6816 - accuracy: 0.5760\n",
      "Epoch 71/100\n",
      "3219/3219 [==============================] - 1s 404us/step - loss: 0.6816 - accuracy: 0.5760\n",
      "Epoch 72/100\n",
      "3219/3219 [==============================] - 1s 417us/step - loss: 0.6816 - accuracy: 0.5760\n",
      "Epoch 73/100\n",
      "3219/3219 [==============================] - 1s 455us/step - loss: 0.6816 - accuracy: 0.5760\n",
      "Epoch 74/100\n",
      "3219/3219 [==============================] - 1s 403us/step - loss: 0.6816 - accuracy: 0.5760\n",
      "Epoch 75/100\n",
      "3219/3219 [==============================] - 1s 404us/step - loss: 0.6816 - accuracy: 0.5760\n",
      "Epoch 76/100\n",
      "3219/3219 [==============================] - 1s 401us/step - loss: 0.6816 - accuracy: 0.5760\n",
      "Epoch 77/100\n",
      "3219/3219 [==============================] - 1s 384us/step - loss: 0.6817 - accuracy: 0.5760\n",
      "Epoch 78/100\n"
     ]
    },
    {
     "name": "stdout",
     "output_type": "stream",
     "text": [
      "3219/3219 [==============================] - 1s 402us/step - loss: 0.6816 - accuracy: 0.5760\n",
      "Epoch 79/100\n",
      "3219/3219 [==============================] - 1s 393us/step - loss: 0.6816 - accuracy: 0.5760\n",
      "Epoch 80/100\n",
      "3219/3219 [==============================] - 1s 387us/step - loss: 0.6816 - accuracy: 0.5760\n",
      "Epoch 81/100\n",
      "3219/3219 [==============================] - 1s 420us/step - loss: 0.6816 - accuracy: 0.5760\n",
      "Epoch 82/100\n",
      "3219/3219 [==============================] - 1s 436us/step - loss: 0.6816 - accuracy: 0.5760\n",
      "Epoch 83/100\n",
      "3219/3219 [==============================] - 1s 402us/step - loss: 0.6817 - accuracy: 0.5760\n",
      "Epoch 84/100\n",
      "3219/3219 [==============================] - 1s 376us/step - loss: 0.6816 - accuracy: 0.5760\n",
      "Epoch 85/100\n",
      "3219/3219 [==============================] - 1s 377us/step - loss: 0.6816 - accuracy: 0.5760\n",
      "Epoch 86/100\n",
      "3219/3219 [==============================] - 1s 412us/step - loss: 0.6816 - accuracy: 0.5760\n",
      "Epoch 87/100\n",
      "3219/3219 [==============================] - 1s 402us/step - loss: 0.6816 - accuracy: 0.5760\n",
      "Epoch 88/100\n",
      "3219/3219 [==============================] - 1s 390us/step - loss: 0.6816 - accuracy: 0.5760\n",
      "Epoch 89/100\n",
      "3219/3219 [==============================] - 1s 398us/step - loss: 0.6816 - accuracy: 0.5760\n",
      "Epoch 90/100\n",
      "3219/3219 [==============================] - 1s 380us/step - loss: 0.6816 - accuracy: 0.5760\n",
      "Epoch 91/100\n",
      "3219/3219 [==============================] - 1s 386us/step - loss: 0.6816 - accuracy: 0.5760\n",
      "Epoch 92/100\n",
      "3219/3219 [==============================] - 1s 390us/step - loss: 0.6816 - accuracy: 0.5760\n",
      "Epoch 93/100\n",
      "3219/3219 [==============================] - 1s 391us/step - loss: 0.6816 - accuracy: 0.5760\n",
      "Epoch 94/100\n",
      "3219/3219 [==============================] - 1s 399us/step - loss: 0.6816 - accuracy: 0.5760\n",
      "Epoch 95/100\n",
      "3219/3219 [==============================] - 1s 402us/step - loss: 0.6816 - accuracy: 0.5760\n",
      "Epoch 96/100\n",
      "3219/3219 [==============================] - 1s 418us/step - loss: 0.6816 - accuracy: 0.5760\n",
      "Epoch 97/100\n",
      "3219/3219 [==============================] - 1s 394us/step - loss: 0.6816 - accuracy: 0.5760\n",
      "Epoch 98/100\n",
      "3219/3219 [==============================] - 1s 404us/step - loss: 0.6816 - accuracy: 0.5760\n",
      "Epoch 99/100\n",
      "3219/3219 [==============================] - 1s 392us/step - loss: 0.6816 - accuracy: 0.5760\n",
      "Epoch 100/100\n",
      "3219/3219 [==============================] - 1s 423us/step - loss: 0.6816 - accuracy: 0.5760\n"
     ]
    },
    {
     "data": {
      "text/plain": [
       "<keras.callbacks.callbacks.History at 0x2e32db03248>"
      ]
     },
     "execution_count": 12,
     "metadata": {},
     "output_type": "execute_result"
    }
   ],
   "source": [
    "classifier.fit(\n",
    "                x_train,\n",
    "                y_train,\n",
    "                batch_size= 10,\n",
    "                epochs = 100\n",
    "            )"
   ]
  },
  {
   "cell_type": "code",
   "execution_count": 13,
   "id": "5c075453",
   "metadata": {},
   "outputs": [],
   "source": [
    "y_pred = classifier.predict(x_test)"
   ]
  },
  {
   "cell_type": "code",
   "execution_count": 14,
   "id": "9878a01c",
   "metadata": {},
   "outputs": [],
   "source": [
    "y_pred = (y_pred > 0.5)"
   ]
  },
  {
   "cell_type": "code",
   "execution_count": 23,
   "id": "9231ba92",
   "metadata": {},
   "outputs": [
    {
     "data": {
      "text/plain": [
       "array([[  0, 546],\n",
       "       [  0, 834]], dtype=int64)"
      ]
     },
     "execution_count": 23,
     "metadata": {},
     "output_type": "execute_result"
    }
   ],
   "source": [
    "from sklearn.metrics import confusion_matrix\n",
    "cm = confusion_matrix(y_test, y_pred)\n",
    "cm"
   ]
  },
  {
   "cell_type": "code",
   "execution_count": 16,
   "id": "08892d23",
   "metadata": {},
   "outputs": [],
   "source": [
    "from keras.wrappers.scikit_learn import KerasClassifier\n",
    "from sklearn.model_selection import cross_val_score\n",
    "from keras.models import Sequential\n",
    "from keras.layers import Dense"
   ]
  },
  {
   "cell_type": "code",
   "execution_count": 17,
   "id": "38a78367",
   "metadata": {},
   "outputs": [],
   "source": [
    "def build_classifier():\n",
    "    classifier = Sequential()\n",
    "    \n",
    "    classifier.add(Dense(\n",
    "        units = 6,\n",
    "        kernel_initializer=\"uniform\",\n",
    "        activation=\"relu\",\n",
    "        input_dim = 11\n",
    "        ))\n",
    "    \n",
    "    classifier.add(Dense(\n",
    "        units = 6,\n",
    "        kernel_initializer=\"uniform\",\n",
    "        activation=\"relu\"\n",
    "        ))\n",
    "    \n",
    "    classifier.add(Dense(\n",
    "        units = 1,\n",
    "        kernel_initializer=\"uniform\",\n",
    "        activation=\"sigmoid\"\n",
    "        ))\n",
    "    \n",
    "    classifier.compile(\n",
    "        optimizer = \"adam\",\n",
    "        loss=\"binary_crossentropy\",\n",
    "        metrics=['accuracy']\n",
    "        )\n",
    "    \n",
    "    return classifier"
   ]
  },
  {
   "cell_type": "code",
   "execution_count": 19,
   "id": "4a5b3b6c",
   "metadata": {
    "scrolled": true
   },
   "outputs": [
    {
     "name": "stdout",
     "output_type": "stream",
     "text": [
      "Epoch 1/1\n",
      "2897/2897 [==============================] - 1s 432us/step - loss: 128.8067 - accuracy: 0.5557\n",
      "322/322 [==============================] - 0s 204us/step\n",
      "Epoch 1/1\n",
      "2897/2897 [==============================] - 1s 435us/step - loss: 22.5072 - accuracy: 0.5582\n",
      "322/322 [==============================] - 0s 180us/step\n",
      "Epoch 1/1\n",
      "2897/2897 [==============================] - 1s 415us/step - loss: 45.0411 - accuracy: 0.5630\n",
      "322/322 [==============================] - 0s 174us/step\n",
      "Epoch 1/1\n",
      "2897/2897 [==============================] - 1s 436us/step - loss: 17.9507 - accuracy: 0.5347\n",
      "322/322 [==============================] - 0s 170us/step\n",
      "Epoch 1/1\n",
      "2897/2897 [==============================] - 1s 433us/step - loss: 2.4497 - accuracy: 0.5654\n",
      "322/322 [==============================] - 0s 170us/step\n",
      "Epoch 1/1\n",
      "2897/2897 [==============================] - 1s 448us/step - loss: 65.8287 - accuracy: 0.5537\n",
      "322/322 [==============================] - 0s 207us/step\n",
      "Epoch 1/1\n",
      "2897/2897 [==============================] - 1s 415us/step - loss: 68.2129 - accuracy: 0.5343\n",
      "322/322 [==============================] - 0s 177us/step\n",
      "Epoch 1/1\n",
      "2897/2897 [==============================] - 1s 427us/step - loss: 10.9149 - accuracy: 0.4808\n",
      "322/322 [==============================] - 0s 204us/step\n",
      "Epoch 1/1\n",
      "2897/2897 [==============================] - 1s 470us/step - loss: 0.6894 - accuracy: 0.5754\n",
      "322/322 [==============================] - 0s 220us/step\n",
      "Epoch 1/1\n",
      "2898/2898 [==============================] - 1s 448us/step - loss: 0.6899 - accuracy: 0.5707\n",
      "321/321 [==============================] - 0s 174us/step\n"
     ]
    }
   ],
   "source": [
    "classifier = KerasClassifier(\n",
    "        build_fn=build_classifier,\n",
    "        batch_size = 10,\n",
    "        nb_epoch = 100)\n",
    "\n",
    "accuracies = cross_val_score(\n",
    "        estimator=classifier,\n",
    "        X=x_train,\n",
    "        y=y_train,\n",
    "        cv=10,\n",
    "        n_jobs=1)\n"
   ]
  },
  {
   "cell_type": "code",
   "execution_count": 20,
   "id": "0d85dba1",
   "metadata": {},
   "outputs": [],
   "source": [
    "\n",
    "mean = accuracies.mean()\n",
    "variance= accuracies.std()"
   ]
  },
  {
   "cell_type": "code",
   "execution_count": 21,
   "id": "517945e4",
   "metadata": {},
   "outputs": [
    {
     "data": {
      "text/plain": [
       "0.5635368973016739"
      ]
     },
     "execution_count": 21,
     "metadata": {},
     "output_type": "execute_result"
    }
   ],
   "source": [
    "mean"
   ]
  },
  {
   "cell_type": "code",
   "execution_count": 22,
   "id": "3d0cf457",
   "metadata": {},
   "outputs": [
    {
     "data": {
      "text/plain": [
       "0.07300225824350753"
      ]
     },
     "execution_count": 22,
     "metadata": {},
     "output_type": "execute_result"
    }
   ],
   "source": [
    "variance"
   ]
  },
  {
   "cell_type": "code",
   "execution_count": null,
   "id": "0a22f568",
   "metadata": {},
   "outputs": [],
   "source": []
  },
  {
   "cell_type": "code",
   "execution_count": null,
   "id": "df5f15af",
   "metadata": {},
   "outputs": [],
   "source": []
  },
  {
   "cell_type": "code",
   "execution_count": null,
   "id": "28ea96eb",
   "metadata": {},
   "outputs": [],
   "source": []
  },
  {
   "cell_type": "code",
   "execution_count": null,
   "id": "c889b581",
   "metadata": {},
   "outputs": [],
   "source": []
  },
  {
   "cell_type": "code",
   "execution_count": null,
   "id": "f37ff497",
   "metadata": {},
   "outputs": [],
   "source": []
  }
 ],
 "metadata": {
  "kernelspec": {
   "display_name": "Python 3 (ipykernel)",
   "language": "python",
   "name": "python3"
  },
  "language_info": {
   "codemirror_mode": {
    "name": "ipython",
    "version": 3
   },
   "file_extension": ".py",
   "mimetype": "text/x-python",
   "name": "python",
   "nbconvert_exporter": "python",
   "pygments_lexer": "ipython3",
   "version": "3.7.11"
  }
 },
 "nbformat": 4,
 "nbformat_minor": 5
}
