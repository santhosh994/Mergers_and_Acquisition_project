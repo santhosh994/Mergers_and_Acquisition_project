{
 "cells": [
  {
   "cell_type": "markdown",
   "id": "99ec1d51",
   "metadata": {},
   "source": [
    "## Artificial Neural Network"
   ]
  },
  {
   "cell_type": "code",
   "execution_count": 1,
   "id": "d984ece2",
   "metadata": {},
   "outputs": [],
   "source": [
    "import numpy as np\n",
    "import pandas as pd\n",
    "import matplotlib.pyplot as plt"
   ]
  },
  {
   "cell_type": "code",
   "execution_count": 2,
   "id": "1cc2e371",
   "metadata": {},
   "outputs": [],
   "source": [
    "df_ann = pd.read_csv(\"df_knn.csv\")"
   ]
  },
  {
   "cell_type": "code",
   "execution_count": 3,
   "id": "3ae84461",
   "metadata": {},
   "outputs": [
    {
     "data": {
      "text/html": [
       "<div>\n",
       "<style scoped>\n",
       "    .dataframe tbody tr th:only-of-type {\n",
       "        vertical-align: middle;\n",
       "    }\n",
       "\n",
       "    .dataframe tbody tr th {\n",
       "        vertical-align: top;\n",
       "    }\n",
       "\n",
       "    .dataframe thead th {\n",
       "        text-align: right;\n",
       "    }\n",
       "</style>\n",
       "<table border=\"1\" class=\"dataframe\">\n",
       "  <thead>\n",
       "    <tr style=\"text-align: right;\">\n",
       "      <th></th>\n",
       "      <th>market</th>\n",
       "      <th>funding_total_usd</th>\n",
       "      <th>region</th>\n",
       "      <th>city</th>\n",
       "      <th>funding_rounds</th>\n",
       "      <th>Founding_year</th>\n",
       "      <th>first_funding_year</th>\n",
       "      <th>last_funding_year</th>\n",
       "      <th>first_funding_gap</th>\n",
       "      <th>last_funding_gap</th>\n",
       "      <th>first_last_funding_gap</th>\n",
       "      <th>success</th>\n",
       "    </tr>\n",
       "  </thead>\n",
       "  <tbody>\n",
       "    <tr>\n",
       "      <th>0</th>\n",
       "      <td>226</td>\n",
       "      <td>1750000</td>\n",
       "      <td>104</td>\n",
       "      <td>449</td>\n",
       "      <td>1</td>\n",
       "      <td>2012</td>\n",
       "      <td>2012</td>\n",
       "      <td>2012</td>\n",
       "      <td>0</td>\n",
       "      <td>0</td>\n",
       "      <td>0</td>\n",
       "      <td>1</td>\n",
       "    </tr>\n",
       "    <tr>\n",
       "      <th>1</th>\n",
       "      <td>309</td>\n",
       "      <td>7000000</td>\n",
       "      <td>51</td>\n",
       "      <td>469</td>\n",
       "      <td>1</td>\n",
       "      <td>2011</td>\n",
       "      <td>2013</td>\n",
       "      <td>2013</td>\n",
       "      <td>2</td>\n",
       "      <td>2</td>\n",
       "      <td>0</td>\n",
       "      <td>0</td>\n",
       "    </tr>\n",
       "    <tr>\n",
       "      <th>2</th>\n",
       "      <td>79</td>\n",
       "      <td>2535000</td>\n",
       "      <td>131</td>\n",
       "      <td>569</td>\n",
       "      <td>2</td>\n",
       "      <td>2010</td>\n",
       "      <td>2010</td>\n",
       "      <td>2011</td>\n",
       "      <td>0</td>\n",
       "      <td>1</td>\n",
       "      <td>1</td>\n",
       "      <td>1</td>\n",
       "    </tr>\n",
       "    <tr>\n",
       "      <th>3</th>\n",
       "      <td>8</td>\n",
       "      <td>1250000</td>\n",
       "      <td>131</td>\n",
       "      <td>569</td>\n",
       "      <td>2</td>\n",
       "      <td>2011</td>\n",
       "      <td>2011</td>\n",
       "      <td>2011</td>\n",
       "      <td>0</td>\n",
       "      <td>0</td>\n",
       "      <td>0</td>\n",
       "      <td>1</td>\n",
       "    </tr>\n",
       "    <tr>\n",
       "      <th>4</th>\n",
       "      <td>79</td>\n",
       "      <td>50000</td>\n",
       "      <td>32</td>\n",
       "      <td>145</td>\n",
       "      <td>1</td>\n",
       "      <td>2009</td>\n",
       "      <td>2009</td>\n",
       "      <td>2009</td>\n",
       "      <td>0</td>\n",
       "      <td>0</td>\n",
       "      <td>0</td>\n",
       "      <td>0</td>\n",
       "    </tr>\n",
       "  </tbody>\n",
       "</table>\n",
       "</div>"
      ],
      "text/plain": [
       "   market  funding_total_usd  region  city  funding_rounds  Founding_year  \\\n",
       "0     226            1750000     104   449               1           2012   \n",
       "1     309            7000000      51   469               1           2011   \n",
       "2      79            2535000     131   569               2           2010   \n",
       "3       8            1250000     131   569               2           2011   \n",
       "4      79              50000      32   145               1           2009   \n",
       "\n",
       "   first_funding_year  last_funding_year  first_funding_gap  last_funding_gap  \\\n",
       "0                2012               2012                  0                 0   \n",
       "1                2013               2013                  2                 2   \n",
       "2                2010               2011                  0                 1   \n",
       "3                2011               2011                  0                 0   \n",
       "4                2009               2009                  0                 0   \n",
       "\n",
       "   first_last_funding_gap  success  \n",
       "0                       0        1  \n",
       "1                       0        0  \n",
       "2                       1        1  \n",
       "3                       0        1  \n",
       "4                       0        0  "
      ]
     },
     "execution_count": 3,
     "metadata": {},
     "output_type": "execute_result"
    }
   ],
   "source": [
    "df_ann.head()"
   ]
  },
  {
   "cell_type": "code",
   "execution_count": 4,
   "id": "e88e2c84",
   "metadata": {},
   "outputs": [
    {
     "data": {
      "text/plain": [
       "Index(['market', 'funding_total_usd', 'region', 'city', 'funding_rounds',\n",
       "       'Founding_year', 'first_funding_year', 'last_funding_year',\n",
       "       'first_funding_gap', 'last_funding_gap', 'first_last_funding_gap',\n",
       "       'success'],\n",
       "      dtype='object')"
      ]
     },
     "execution_count": 4,
     "metadata": {},
     "output_type": "execute_result"
    }
   ],
   "source": [
    "df_ann.columns"
   ]
  },
  {
   "cell_type": "code",
   "execution_count": 5,
   "id": "ae97e120",
   "metadata": {},
   "outputs": [],
   "source": [
    "from sklearn.model_selection import train_test_split\n",
    "x = df_ann.drop('success', axis = 1)\n",
    "y = df_ann['success']\n",
    "x_train, x_test, y_train, y_test = train_test_split(x, y, test_size = 0.3)"
   ]
  },
  {
   "cell_type": "code",
   "execution_count": 6,
   "id": "f9d97be0",
   "metadata": {},
   "outputs": [],
   "source": [
    "# Feature Scaling\n",
    "from sklearn.preprocessing import StandardScaler\n",
    "sc = StandardScaler()\n",
    "X_train_scaled = sc.fit_transform(x_train)\n",
    "X_test_scaled = sc.transform(x_test)"
   ]
  },
  {
   "cell_type": "code",
   "execution_count": 7,
   "id": "4cd6d209",
   "metadata": {},
   "outputs": [],
   "source": [
    "#!pip install h5py"
   ]
  },
  {
   "cell_type": "code",
   "execution_count": 8,
   "id": "0db1cb00",
   "metadata": {},
   "outputs": [
    {
     "name": "stderr",
     "output_type": "stream",
     "text": [
      "Using TensorFlow backend.\n"
     ]
    }
   ],
   "source": [
    "##building an ANN\n",
    "import keras\n",
    "from keras.models import Sequential\n",
    "from keras.layers import Dense"
   ]
  },
  {
   "cell_type": "code",
   "execution_count": 9,
   "id": "4b09909a",
   "metadata": {},
   "outputs": [],
   "source": [
    "classifier = Sequential()"
   ]
  },
  {
   "cell_type": "code",
   "execution_count": 10,
   "id": "51a08e6a",
   "metadata": {},
   "outputs": [],
   "source": [
    "classifier.add(Dense(\n",
    "                    units=6,\n",
    "                    kernel_initializer=\"uniform\",\n",
    "                    activation=\"relu\",\n",
    "                    input_dim = 11\n",
    "                    ))\n",
    "#adding second hidden layer\n",
    "classifier.add(Dense(\n",
    "                    units=6,\n",
    "                    kernel_initializer=\"uniform\",\n",
    "                    activation=\"relu\",\n",
    "                    ))\n",
    "\n",
    "#adding output layer\n",
    "classifier.add(Dense(\n",
    "                    units=1,\n",
    "                    kernel_initializer=\"uniform\",\n",
    "                    activation=\"sigmoid\",\n",
    "                    ))"
   ]
  },
  {
   "cell_type": "code",
   "execution_count": 11,
   "id": "c30e7b5d",
   "metadata": {},
   "outputs": [],
   "source": [
    "#compile ANN\n",
    "classifier.compile(\n",
    "                optimizer = \"adam\",\n",
    "                loss = \"binary_crossentropy\",\n",
    "                metrics = ['accuracy']\n",
    "                )"
   ]
  },
  {
   "cell_type": "code",
   "execution_count": 12,
   "id": "c3f8d353",
   "metadata": {
    "scrolled": true
   },
   "outputs": [
    {
     "name": "stdout",
     "output_type": "stream",
     "text": [
      "Epoch 1/100\n",
      "3219/3219 [==============================] - 4s 1ms/step - loss: 26.7885 - accuracy: 0.5663\n",
      "Epoch 2/100\n",
      "3219/3219 [==============================] - 2s 679us/step - loss: 0.7352 - accuracy: 0.5747\n",
      "Epoch 3/100\n",
      "3219/3219 [==============================] - 2s 594us/step - loss: 0.6832 - accuracy: 0.5750\n",
      "Epoch 4/100\n",
      "3219/3219 [==============================] - 2s 567us/step - loss: 0.6825 - accuracy: 0.5747\n",
      "Epoch 5/100\n",
      "3219/3219 [==============================] - 2s 574us/step - loss: 0.6820 - accuracy: 0.5747\n",
      "Epoch 6/100\n",
      "3219/3219 [==============================] - 2s 566us/step - loss: 0.6800 - accuracy: 0.5806\n",
      "Epoch 7/100\n",
      "3219/3219 [==============================] - 2s 579us/step - loss: 0.6779 - accuracy: 0.5840\n",
      "Epoch 8/100\n",
      "3219/3219 [==============================] - 2s 575us/step - loss: 0.6743 - accuracy: 0.5955\n",
      "Epoch 9/100\n",
      "3219/3219 [==============================] - 2s 554us/step - loss: 0.6694 - accuracy: 0.6021\n",
      "Epoch 10/100\n",
      "3219/3219 [==============================] - 2s 589us/step - loss: 0.6634 - accuracy: 0.6101\n",
      "Epoch 11/100\n",
      "3219/3219 [==============================] - 2s 593us/step - loss: 0.6615 - accuracy: 0.61230s - loss: 0.6606 - accura\n",
      "Epoch 12/100\n",
      "3219/3219 [==============================] - 2s 574us/step - loss: 0.6592 - accuracy: 0.6170\n",
      "Epoch 13/100\n",
      "3219/3219 [==============================] - 2s 598us/step - loss: 0.6597 - accuracy: 0.6148\n",
      "Epoch 14/100\n",
      "3219/3219 [==============================] - 2s 609us/step - loss: 0.6588 - accuracy: 0.6151\n",
      "Epoch 15/100\n",
      "3219/3219 [==============================] - 2s 562us/step - loss: 0.6593 - accuracy: 0.6154\n",
      "Epoch 16/100\n",
      "3219/3219 [==============================] - 2s 565us/step - loss: 0.6583 - accuracy: 0.6139\n",
      "Epoch 17/100\n",
      "3219/3219 [==============================] - 2s 563us/step - loss: 0.6531 - accuracy: 0.6266\n",
      "Epoch 18/100\n",
      "3219/3219 [==============================] - 2s 556us/step - loss: 0.6528 - accuracy: 0.6257\n",
      "Epoch 19/100\n",
      "3219/3219 [==============================] - 2s 566us/step - loss: 0.6529 - accuracy: 0.6288\n",
      "Epoch 20/100\n",
      "3219/3219 [==============================] - 2s 584us/step - loss: 0.6542 - accuracy: 0.6278\n",
      "Epoch 21/100\n",
      "3219/3219 [==============================] - 2s 583us/step - loss: 0.7226 - accuracy: 0.6216\n",
      "Epoch 22/100\n",
      "3219/3219 [==============================] - 2s 590us/step - loss: 0.6874 - accuracy: 0.5747\n",
      "Epoch 23/100\n",
      "3219/3219 [==============================] - 2s 580us/step - loss: 0.6836 - accuracy: 0.5747\n",
      "Epoch 24/100\n",
      "3219/3219 [==============================] - 2s 560us/step - loss: 0.6820 - accuracy: 0.5747\n",
      "Epoch 25/100\n",
      "3219/3219 [==============================] - 2s 575us/step - loss: 0.6798 - accuracy: 0.5784\n",
      "Epoch 26/100\n",
      "3219/3219 [==============================] - 2s 575us/step - loss: 0.6717 - accuracy: 0.6008\n",
      "Epoch 27/100\n",
      "3219/3219 [==============================] - 2s 581us/step - loss: 0.6642 - accuracy: 0.6073\n",
      "Epoch 28/100\n",
      "3219/3219 [==============================] - 2s 575us/step - loss: 0.6620 - accuracy: 0.6080\n",
      "Epoch 29/100\n",
      "3219/3219 [==============================] - 2s 584us/step - loss: 0.6616 - accuracy: 0.6092\n",
      "Epoch 30/100\n",
      "3219/3219 [==============================] - 2s 592us/step - loss: 0.6615 - accuracy: 0.6076\n",
      "Epoch 31/100\n",
      "3219/3219 [==============================] - 2s 568us/step - loss: 0.6604 - accuracy: 0.6101\n",
      "Epoch 32/100\n",
      "3219/3219 [==============================] - 2s 568us/step - loss: 0.6579 - accuracy: 0.6182\n",
      "Epoch 33/100\n",
      "3219/3219 [==============================] - 2s 576us/step - loss: 0.6566 - accuracy: 0.6157\n",
      "Epoch 34/100\n",
      "3219/3219 [==============================] - 2s 568us/step - loss: 0.6556 - accuracy: 0.6185\n",
      "Epoch 35/100\n",
      "3219/3219 [==============================] - 2s 563us/step - loss: 0.6561 - accuracy: 0.6188\n",
      "Epoch 36/100\n",
      "3219/3219 [==============================] - 2s 562us/step - loss: 0.6545 - accuracy: 0.6269\n",
      "Epoch 37/100\n",
      "3219/3219 [==============================] - 2s 566us/step - loss: 0.6525 - accuracy: 0.6303\n",
      "Epoch 38/100\n",
      "3219/3219 [==============================] - 2s 561us/step - loss: 0.6527 - accuracy: 0.6241\n",
      "Epoch 39/100\n",
      "3219/3219 [==============================] - 2s 585us/step - loss: 0.6558 - accuracy: 0.6278\n",
      "Epoch 40/100\n",
      "3219/3219 [==============================] - 2s 580us/step - loss: 0.6546 - accuracy: 0.6269\n",
      "Epoch 41/100\n",
      "3219/3219 [==============================] - 2s 571us/step - loss: 0.6517 - accuracy: 0.62940s - loss: 0.6520 - accuracy: 0.\n",
      "Epoch 42/100\n",
      "3219/3219 [==============================] - 2s 610us/step - loss: 0.6520 - accuracy: 0.6334\n",
      "Epoch 43/100\n",
      "3219/3219 [==============================] - 2s 622us/step - loss: 0.6510 - accuracy: 0.6347\n",
      "Epoch 44/100\n",
      "3219/3219 [==============================] - 2s 608us/step - loss: 0.6610 - accuracy: 0.6191\n",
      "Epoch 45/100\n",
      "3219/3219 [==============================] - 2s 608us/step - loss: 0.6612 - accuracy: 0.6132\n",
      "Epoch 46/100\n",
      "3219/3219 [==============================] - 2s 620us/step - loss: 0.6555 - accuracy: 0.6210\n",
      "Epoch 47/100\n",
      "3219/3219 [==============================] - 2s 588us/step - loss: 0.6521 - accuracy: 0.6244\n",
      "Epoch 48/100\n",
      "3219/3219 [==============================] - 2s 598us/step - loss: 0.6534 - accuracy: 0.6275\n",
      "Epoch 49/100\n",
      "3219/3219 [==============================] - 2s 587us/step - loss: 0.6539 - accuracy: 0.6278\n",
      "Epoch 50/100\n",
      "3219/3219 [==============================] - 2s 587us/step - loss: 0.6520 - accuracy: 0.6309\n",
      "Epoch 51/100\n",
      "3219/3219 [==============================] - 2s 593us/step - loss: 0.6596 - accuracy: 0.6269\n",
      "Epoch 52/100\n",
      "3219/3219 [==============================] - 2s 583us/step - loss: 0.6637 - accuracy: 0.6104\n",
      "Epoch 53/100\n",
      "3219/3219 [==============================] - 2s 576us/step - loss: 0.6610 - accuracy: 0.6111\n",
      "Epoch 54/100\n",
      "3219/3219 [==============================] - 2s 567us/step - loss: 0.6584 - accuracy: 0.6185\n",
      "Epoch 55/100\n",
      "3219/3219 [==============================] - 2s 609us/step - loss: 0.6558 - accuracy: 0.6226\n",
      "Epoch 56/100\n",
      "3219/3219 [==============================] - 2s 600us/step - loss: 0.6474 - accuracy: 0.6368\n",
      "Epoch 57/100\n",
      "3219/3219 [==============================] - 2s 601us/step - loss: 0.6515 - accuracy: 0.6362\n",
      "Epoch 58/100\n",
      "3219/3219 [==============================] - 2s 586us/step - loss: 0.6636 - accuracy: 0.6111\n",
      "Epoch 59/100\n",
      "3219/3219 [==============================] - 2s 593us/step - loss: 0.6602 - accuracy: 0.6182\n",
      "Epoch 60/100\n",
      "3219/3219 [==============================] - 2s 584us/step - loss: 0.6585 - accuracy: 0.6191\n",
      "Epoch 61/100\n",
      "3219/3219 [==============================] - 2s 573us/step - loss: 0.6582 - accuracy: 0.6207\n",
      "Epoch 62/100\n",
      "3219/3219 [==============================] - 2s 582us/step - loss: 0.6570 - accuracy: 0.6198\n",
      "Epoch 63/100\n",
      "3219/3219 [==============================] - 2s 588us/step - loss: 0.6567 - accuracy: 0.6204\n",
      "Epoch 64/100\n",
      "3219/3219 [==============================] - 2s 570us/step - loss: 0.6568 - accuracy: 0.6204\n",
      "Epoch 65/100\n",
      "3219/3219 [==============================] - 2s 596us/step - loss: 0.6568 - accuracy: 0.6263\n",
      "Epoch 66/100\n",
      "3219/3219 [==============================] - 2s 602us/step - loss: 0.6570 - accuracy: 0.6182\n",
      "Epoch 67/100\n",
      "3219/3219 [==============================] - 2s 586us/step - loss: 0.6534 - accuracy: 0.6226\n",
      "Epoch 68/100\n",
      "3219/3219 [==============================] - 2s 587us/step - loss: 0.6520 - accuracy: 0.6303\n",
      "Epoch 69/100\n",
      "3219/3219 [==============================] - 2s 594us/step - loss: 0.6525 - accuracy: 0.6291\n",
      "Epoch 70/100\n",
      "3219/3219 [==============================] - 2s 580us/step - loss: 0.6515 - accuracy: 0.6291\n",
      "Epoch 71/100\n",
      "3219/3219 [==============================] - 2s 588us/step - loss: 0.6490 - accuracy: 0.6372\n",
      "Epoch 72/100\n",
      "3219/3219 [==============================] - 2s 578us/step - loss: 0.6429 - accuracy: 0.6462\n",
      "Epoch 73/100\n",
      "3219/3219 [==============================] - 2s 607us/step - loss: 0.6434 - accuracy: 0.6468\n",
      "Epoch 74/100\n",
      "3219/3219 [==============================] - 2s 586us/step - loss: 0.6489 - accuracy: 0.6400\n",
      "Epoch 75/100\n",
      "3219/3219 [==============================] - 2s 591us/step - loss: 0.6525 - accuracy: 0.6288\n",
      "Epoch 76/100\n",
      "3219/3219 [==============================] - 2s 577us/step - loss: 0.6522 - accuracy: 0.6415\n",
      "Epoch 77/100\n"
     ]
    },
    {
     "name": "stdout",
     "output_type": "stream",
     "text": [
      "3219/3219 [==============================] - 2s 552us/step - loss: 0.6597 - accuracy: 0.6167\n",
      "Epoch 78/100\n",
      "3219/3219 [==============================] - 2s 548us/step - loss: 0.6575 - accuracy: 0.6167\n",
      "Epoch 79/100\n",
      "3219/3219 [==============================] - 2s 556us/step - loss: 0.6587 - accuracy: 0.6188\n",
      "Epoch 80/100\n",
      "3219/3219 [==============================] - 2s 554us/step - loss: 0.6580 - accuracy: 0.6204\n",
      "Epoch 81/100\n",
      "3219/3219 [==============================] - 2s 544us/step - loss: 0.6568 - accuracy: 0.6213\n",
      "Epoch 82/100\n",
      "3219/3219 [==============================] - 2s 552us/step - loss: 0.6566 - accuracy: 0.6213\n",
      "Epoch 83/100\n",
      "3219/3219 [==============================] - 2s 561us/step - loss: 0.6573 - accuracy: 0.6219\n",
      "Epoch 84/100\n",
      "3219/3219 [==============================] - 2s 554us/step - loss: 0.6552 - accuracy: 0.6226\n",
      "Epoch 85/100\n",
      "3219/3219 [==============================] - 2s 547us/step - loss: 0.6552 - accuracy: 0.6263\n",
      "Epoch 86/100\n",
      "3219/3219 [==============================] - 2s 562us/step - loss: 0.6537 - accuracy: 0.6260\n",
      "Epoch 87/100\n",
      "3219/3219 [==============================] - 2s 558us/step - loss: 0.6539 - accuracy: 0.6281\n",
      "Epoch 88/100\n",
      "3219/3219 [==============================] - 2s 562us/step - loss: 0.6519 - accuracy: 0.6288\n",
      "Epoch 89/100\n",
      "3219/3219 [==============================] - 2s 564us/step - loss: 0.6505 - accuracy: 0.6331\n",
      "Epoch 90/100\n",
      "3219/3219 [==============================] - 2s 572us/step - loss: 0.6473 - accuracy: 0.6387\n",
      "Epoch 91/100\n",
      "3219/3219 [==============================] - 2s 545us/step - loss: 0.6427 - accuracy: 0.6524\n",
      "Epoch 92/100\n",
      "3219/3219 [==============================] - 2s 564us/step - loss: 0.6394 - accuracy: 0.6552\n",
      "Epoch 93/100\n",
      "3219/3219 [==============================] - 2s 563us/step - loss: 0.6391 - accuracy: 0.6573\n",
      "Epoch 94/100\n",
      "3219/3219 [==============================] - 2s 550us/step - loss: 0.6420 - accuracy: 0.6521\n",
      "Epoch 95/100\n",
      "3219/3219 [==============================] - 2s 594us/step - loss: 0.6398 - accuracy: 0.6592\n",
      "Epoch 96/100\n",
      "3219/3219 [==============================] - 2s 595us/step - loss: 0.6421 - accuracy: 0.6521\n",
      "Epoch 97/100\n",
      "3219/3219 [==============================] - 2s 570us/step - loss: 0.6415 - accuracy: 0.6527\n",
      "Epoch 98/100\n",
      "3219/3219 [==============================] - 2s 579us/step - loss: 0.6414 - accuracy: 0.6527\n",
      "Epoch 99/100\n",
      "3219/3219 [==============================] - 2s 594us/step - loss: 0.6404 - accuracy: 0.6524\n",
      "Epoch 100/100\n",
      "3219/3219 [==============================] - 2s 588us/step - loss: 0.6412 - accuracy: 0.6552\n"
     ]
    },
    {
     "data": {
      "text/plain": [
       "<keras.callbacks.callbacks.History at 0x2c8982ded88>"
      ]
     },
     "execution_count": 12,
     "metadata": {},
     "output_type": "execute_result"
    }
   ],
   "source": [
    "classifier.fit(\n",
    "                x_train,\n",
    "                y_train,\n",
    "                batch_size= 10,\n",
    "                epochs = 100\n",
    "            )"
   ]
  },
  {
   "cell_type": "code",
   "execution_count": 13,
   "id": "5c075453",
   "metadata": {},
   "outputs": [],
   "source": [
    "y_pred = classifier.predict(x_test)"
   ]
  },
  {
   "cell_type": "code",
   "execution_count": 14,
   "id": "9878a01c",
   "metadata": {},
   "outputs": [],
   "source": [
    "y_pred = (y_pred > 0.5)"
   ]
  },
  {
   "cell_type": "code",
   "execution_count": 15,
   "id": "9231ba92",
   "metadata": {},
   "outputs": [
    {
     "data": {
      "text/plain": [
       "array([[154, 388],\n",
       "       [ 55, 783]], dtype=int64)"
      ]
     },
     "execution_count": 15,
     "metadata": {},
     "output_type": "execute_result"
    }
   ],
   "source": [
    "from sklearn.metrics import confusion_matrix\n",
    "cm = confusion_matrix(y_test, y_pred)\n",
    "cm"
   ]
  },
  {
   "cell_type": "code",
   "execution_count": 16,
   "id": "08892d23",
   "metadata": {},
   "outputs": [],
   "source": [
    "from keras.wrappers.scikit_learn import KerasClassifier\n",
    "from sklearn.model_selection import cross_val_score\n",
    "from keras.models import Sequential\n",
    "from keras.layers import Dense"
   ]
  },
  {
   "cell_type": "code",
   "execution_count": 17,
   "id": "38a78367",
   "metadata": {},
   "outputs": [],
   "source": [
    "def build_classifier():\n",
    "    classifier = Sequential()\n",
    "    \n",
    "    classifier.add(Dense(\n",
    "        units = 6,\n",
    "        kernel_initializer=\"uniform\",\n",
    "        activation=\"relu\",\n",
    "        input_dim = 11\n",
    "        ))\n",
    "    \n",
    "    classifier.add(Dense(\n",
    "        units = 6,\n",
    "        kernel_initializer=\"uniform\",\n",
    "        activation=\"relu\"\n",
    "        ))\n",
    "    \n",
    "    classifier.add(Dense(\n",
    "        units = 1,\n",
    "        kernel_initializer=\"uniform\",\n",
    "        activation=\"sigmoid\"\n",
    "        ))\n",
    "    \n",
    "    classifier.compile(\n",
    "        optimizer = \"adam\",\n",
    "        loss=\"binary_crossentropy\",\n",
    "        metrics=['accuracy']\n",
    "        )\n",
    "    \n",
    "    return classifier"
   ]
  },
  {
   "cell_type": "code",
   "execution_count": 18,
   "id": "4a5b3b6c",
   "metadata": {
    "scrolled": true
   },
   "outputs": [
    {
     "name": "stdout",
     "output_type": "stream",
     "text": [
      "Epoch 1/1\n",
      "2897/2897 [==============================] - 2s 713us/step - loss: 0.7226 - accuracy: 0.5699\n",
      "322/322 [==============================] - 0s 362us/step\n",
      "Epoch 1/1\n",
      "2897/2897 [==============================] - 2s 693us/step - loss: 17.0600 - accuracy: 0.5878\n",
      "322/322 [==============================] - 0s 360us/step\n",
      "Epoch 1/1\n",
      "2897/2897 [==============================] - 2s 684us/step - loss: 14.0039 - accuracy: 0.5060\n",
      "322/322 [==============================] - 0s 346us/step\n",
      "Epoch 1/1\n",
      "2897/2897 [==============================] - 2s 717us/step - loss: 9.7640 - accuracy: 0.5250\n",
      "322/322 [==============================] - 0s 357us/step\n",
      "Epoch 1/1\n",
      "2897/2897 [==============================] - 2s 689us/step - loss: 217.3522 - accuracy: 0.5709\n",
      "322/322 [==============================] - 0s 382us/step\n",
      "Epoch 1/1\n",
      "2897/2897 [==============================] - 2s 685us/step - loss: 25.7230 - accuracy: 0.5461\n",
      "322/322 [==============================] - 0s 353us/step\n",
      "Epoch 1/1\n",
      "2897/2897 [==============================] - 2s 682us/step - loss: 34.9586 - accuracy: 0.5188\n",
      "322/322 [==============================] - 0s 375us/step\n",
      "Epoch 1/1\n",
      "2897/2897 [==============================] - 2s 691us/step - loss: 47.9248 - accuracy: 0.5589\n",
      "322/322 [==============================] - 0s 355us/step\n",
      "Epoch 1/1\n",
      "2897/2897 [==============================] - 2s 713us/step - loss: 18.8175 - accuracy: 0.5109\n",
      "322/322 [==============================] - 0s 343us/step\n",
      "Epoch 1/1\n",
      "2898/2898 [==============================] - 2s 704us/step - loss: 31.8749 - accuracy: 0.5428\n",
      "321/321 [==============================] - 0s 444us/step\n"
     ]
    }
   ],
   "source": [
    "classifier = KerasClassifier(\n",
    "        build_fn=build_classifier,\n",
    "        batch_size = 10,\n",
    "        nb_epoch = 100)\n",
    "\n",
    "accuracies = cross_val_score(\n",
    "        estimator=classifier,\n",
    "        X=x_train,\n",
    "        y=y_train,\n",
    "        cv=10,\n",
    "        n_jobs=1)\n"
   ]
  },
  {
   "cell_type": "code",
   "execution_count": 19,
   "id": "0d85dba1",
   "metadata": {},
   "outputs": [],
   "source": [
    "mean = accuracies.mean()\n",
    "variance= accuracies.std()"
   ]
  },
  {
   "cell_type": "code",
   "execution_count": 20,
   "id": "517945e4",
   "metadata": {},
   "outputs": [
    {
     "data": {
      "text/plain": [
       "0.572854632139206"
      ]
     },
     "execution_count": 20,
     "metadata": {},
     "output_type": "execute_result"
    }
   ],
   "source": [
    "mean"
   ]
  },
  {
   "cell_type": "code",
   "execution_count": 21,
   "id": "3d0cf457",
   "metadata": {},
   "outputs": [
    {
     "data": {
      "text/plain": [
       "0.07166680038229044"
      ]
     },
     "execution_count": 21,
     "metadata": {},
     "output_type": "execute_result"
    }
   ],
   "source": [
    "variance"
   ]
  },
  {
   "cell_type": "code",
   "execution_count": null,
   "id": "0a22f568",
   "metadata": {},
   "outputs": [],
   "source": []
  },
  {
   "cell_type": "code",
   "execution_count": null,
   "id": "df5f15af",
   "metadata": {},
   "outputs": [],
   "source": []
  },
  {
   "cell_type": "code",
   "execution_count": null,
   "id": "28ea96eb",
   "metadata": {},
   "outputs": [],
   "source": []
  },
  {
   "cell_type": "code",
   "execution_count": null,
   "id": "c889b581",
   "metadata": {},
   "outputs": [],
   "source": []
  },
  {
   "cell_type": "code",
   "execution_count": null,
   "id": "f37ff497",
   "metadata": {},
   "outputs": [],
   "source": []
  }
 ],
 "metadata": {
  "kernelspec": {
   "display_name": "Python 3 (ipykernel)",
   "language": "python",
   "name": "python3"
  },
  "language_info": {
   "codemirror_mode": {
    "name": "ipython",
    "version": 3
   },
   "file_extension": ".py",
   "mimetype": "text/x-python",
   "name": "python",
   "nbconvert_exporter": "python",
   "pygments_lexer": "ipython3",
   "version": "3.7.11"
  }
 },
 "nbformat": 4,
 "nbformat_minor": 5
}
