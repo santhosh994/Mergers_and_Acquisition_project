{
 "cells": [
  {
   "cell_type": "code",
   "execution_count": 1,
   "id": "5fc24e80",
   "metadata": {},
   "outputs": [],
   "source": [
    "import pandas as pd\n",
    "import numpy as np\n",
    "import matplotlib.pyplot as plt"
   ]
  },
  {
   "cell_type": "code",
   "execution_count": 2,
   "id": "6bd6c1fb",
   "metadata": {},
   "outputs": [],
   "source": [
    "df_ann = pd.read_csv(\"df_knn.csv\")"
   ]
  },
  {
   "cell_type": "code",
   "execution_count": 3,
   "id": "5eb2720e",
   "metadata": {},
   "outputs": [
    {
     "data": {
      "text/html": [
       "<div>\n",
       "<style scoped>\n",
       "    .dataframe tbody tr th:only-of-type {\n",
       "        vertical-align: middle;\n",
       "    }\n",
       "\n",
       "    .dataframe tbody tr th {\n",
       "        vertical-align: top;\n",
       "    }\n",
       "\n",
       "    .dataframe thead th {\n",
       "        text-align: right;\n",
       "    }\n",
       "</style>\n",
       "<table border=\"1\" class=\"dataframe\">\n",
       "  <thead>\n",
       "    <tr style=\"text-align: right;\">\n",
       "      <th></th>\n",
       "      <th>market</th>\n",
       "      <th>funding_total_usd</th>\n",
       "      <th>region</th>\n",
       "      <th>city</th>\n",
       "      <th>funding_rounds</th>\n",
       "      <th>Founding_year</th>\n",
       "      <th>first_funding_year</th>\n",
       "      <th>last_funding_year</th>\n",
       "      <th>first_funding_gap</th>\n",
       "      <th>last_funding_gap</th>\n",
       "      <th>first_last_funding_gap</th>\n",
       "      <th>success</th>\n",
       "    </tr>\n",
       "  </thead>\n",
       "  <tbody>\n",
       "    <tr>\n",
       "      <th>0</th>\n",
       "      <td>226</td>\n",
       "      <td>1750000</td>\n",
       "      <td>104</td>\n",
       "      <td>449</td>\n",
       "      <td>1</td>\n",
       "      <td>2012</td>\n",
       "      <td>2012</td>\n",
       "      <td>2012</td>\n",
       "      <td>0</td>\n",
       "      <td>0</td>\n",
       "      <td>0</td>\n",
       "      <td>1</td>\n",
       "    </tr>\n",
       "    <tr>\n",
       "      <th>1</th>\n",
       "      <td>309</td>\n",
       "      <td>7000000</td>\n",
       "      <td>51</td>\n",
       "      <td>469</td>\n",
       "      <td>1</td>\n",
       "      <td>2011</td>\n",
       "      <td>2013</td>\n",
       "      <td>2013</td>\n",
       "      <td>2</td>\n",
       "      <td>2</td>\n",
       "      <td>0</td>\n",
       "      <td>0</td>\n",
       "    </tr>\n",
       "    <tr>\n",
       "      <th>2</th>\n",
       "      <td>79</td>\n",
       "      <td>2535000</td>\n",
       "      <td>131</td>\n",
       "      <td>569</td>\n",
       "      <td>2</td>\n",
       "      <td>2010</td>\n",
       "      <td>2010</td>\n",
       "      <td>2011</td>\n",
       "      <td>0</td>\n",
       "      <td>1</td>\n",
       "      <td>1</td>\n",
       "      <td>1</td>\n",
       "    </tr>\n",
       "    <tr>\n",
       "      <th>3</th>\n",
       "      <td>8</td>\n",
       "      <td>1250000</td>\n",
       "      <td>131</td>\n",
       "      <td>569</td>\n",
       "      <td>2</td>\n",
       "      <td>2011</td>\n",
       "      <td>2011</td>\n",
       "      <td>2011</td>\n",
       "      <td>0</td>\n",
       "      <td>0</td>\n",
       "      <td>0</td>\n",
       "      <td>1</td>\n",
       "    </tr>\n",
       "    <tr>\n",
       "      <th>4</th>\n",
       "      <td>79</td>\n",
       "      <td>50000</td>\n",
       "      <td>32</td>\n",
       "      <td>145</td>\n",
       "      <td>1</td>\n",
       "      <td>2009</td>\n",
       "      <td>2009</td>\n",
       "      <td>2009</td>\n",
       "      <td>0</td>\n",
       "      <td>0</td>\n",
       "      <td>0</td>\n",
       "      <td>0</td>\n",
       "    </tr>\n",
       "  </tbody>\n",
       "</table>\n",
       "</div>"
      ],
      "text/plain": [
       "   market  funding_total_usd  region  city  funding_rounds  Founding_year  \\\n",
       "0     226            1750000     104   449               1           2012   \n",
       "1     309            7000000      51   469               1           2011   \n",
       "2      79            2535000     131   569               2           2010   \n",
       "3       8            1250000     131   569               2           2011   \n",
       "4      79              50000      32   145               1           2009   \n",
       "\n",
       "   first_funding_year  last_funding_year  first_funding_gap  last_funding_gap  \\\n",
       "0                2012               2012                  0                 0   \n",
       "1                2013               2013                  2                 2   \n",
       "2                2010               2011                  0                 1   \n",
       "3                2011               2011                  0                 0   \n",
       "4                2009               2009                  0                 0   \n",
       "\n",
       "   first_last_funding_gap  success  \n",
       "0                       0        1  \n",
       "1                       0        0  \n",
       "2                       1        1  \n",
       "3                       0        1  \n",
       "4                       0        0  "
      ]
     },
     "execution_count": 3,
     "metadata": {},
     "output_type": "execute_result"
    }
   ],
   "source": [
    "df_ann.head()"
   ]
  },
  {
   "cell_type": "code",
   "execution_count": 4,
   "id": "0094c384",
   "metadata": {},
   "outputs": [],
   "source": [
    "from sklearn.model_selection import train_test_split\n",
    "x = df_ann.drop('success', axis = 1)\n",
    "y = df_ann['success']\n",
    "x_train, x_test, y_train, y_test = train_test_split(x, y, test_size = 0.3)"
   ]
  },
  {
   "cell_type": "code",
   "execution_count": 5,
   "id": "cf003327",
   "metadata": {},
   "outputs": [],
   "source": [
    "#!pip install h5py"
   ]
  },
  {
   "cell_type": "code",
   "execution_count": 6,
   "id": "fabd4281",
   "metadata": {},
   "outputs": [
    {
     "name": "stderr",
     "output_type": "stream",
     "text": [
      "Using TensorFlow backend.\n"
     ]
    }
   ],
   "source": [
    "##building an ANN\n",
    "import keras\n",
    "from keras.models import Sequential\n",
    "from keras.layers import Dense"
   ]
  },
  {
   "cell_type": "code",
   "execution_count": 7,
   "id": "3adc5878",
   "metadata": {},
   "outputs": [],
   "source": [
    "classifier = Sequential()"
   ]
  },
  {
   "cell_type": "code",
   "execution_count": 8,
   "id": "38a59a7f",
   "metadata": {},
   "outputs": [],
   "source": [
    "classifier.add(Dense(\n",
    "                    units=6,\n",
    "                    kernel_initializer=\"uniform\",\n",
    "                    activation=\"relu\",\n",
    "                    input_dim = 11\n",
    "                    ))\n",
    "#adding second hidden layer\n",
    "classifier.add(Dense(\n",
    "                    units=6,\n",
    "                    kernel_initializer=\"uniform\",\n",
    "                    activation=\"relu\",\n",
    "                    ))\n",
    "\n",
    "#adding output layer\n",
    "classifier.add(Dense(\n",
    "                    units=1,\n",
    "                    kernel_initializer=\"uniform\",\n",
    "                    activation=\"sigmoid\",\n",
    "                    ))"
   ]
  },
  {
   "cell_type": "code",
   "execution_count": 9,
   "id": "ad2a2bc1",
   "metadata": {},
   "outputs": [],
   "source": [
    "#compile ANN\n",
    "classifier.compile(\n",
    "                optimizer = \"adam\",\n",
    "                loss = \"binary_crossentropy\",\n",
    "                metrics = ['accuracy']\n",
    "                )"
   ]
  },
  {
   "cell_type": "code",
   "execution_count": 13,
   "id": "4fbf46c4",
   "metadata": {
    "scrolled": true
   },
   "outputs": [
    {
     "name": "stdout",
     "output_type": "stream",
     "text": [
      "Epoch 1/100\n",
      "3219/3219 [==============================] - 1s 238us/step - loss: 0.6481 - accuracy: 0.6490\n",
      "Epoch 2/100\n",
      "3219/3219 [==============================] - 1s 247us/step - loss: 0.6481 - accuracy: 0.6490\n",
      "Epoch 3/100\n",
      "3219/3219 [==============================] - 1s 240us/step - loss: 0.6481 - accuracy: 0.6490\n",
      "Epoch 4/100\n",
      "3219/3219 [==============================] - 1s 228us/step - loss: 0.6480 - accuracy: 0.6490\n",
      "Epoch 5/100\n",
      "3219/3219 [==============================] - 1s 229us/step - loss: 0.6480 - accuracy: 0.6490\n",
      "Epoch 6/100\n",
      "3219/3219 [==============================] - 1s 227us/step - loss: 0.6480 - accuracy: 0.6490\n",
      "Epoch 7/100\n",
      "3219/3219 [==============================] - 1s 227us/step - loss: 0.6482 - accuracy: 0.6490\n",
      "Epoch 8/100\n",
      "3219/3219 [==============================] - 1s 231us/step - loss: 0.6480 - accuracy: 0.6490\n",
      "Epoch 9/100\n",
      "3219/3219 [==============================] - 1s 221us/step - loss: 0.6480 - accuracy: 0.6490\n",
      "Epoch 10/100\n",
      "3219/3219 [==============================] - 1s 219us/step - loss: 0.6480 - accuracy: 0.6490\n",
      "Epoch 11/100\n",
      "3219/3219 [==============================] - 1s 226us/step - loss: 0.6481 - accuracy: 0.6490\n",
      "Epoch 12/100\n",
      "3219/3219 [==============================] - 1s 227us/step - loss: 0.6480 - accuracy: 0.6490\n",
      "Epoch 13/100\n",
      "3219/3219 [==============================] - 1s 225us/step - loss: 0.6481 - accuracy: 0.6490\n",
      "Epoch 14/100\n",
      "3219/3219 [==============================] - 1s 222us/step - loss: 0.6480 - accuracy: 0.6490\n",
      "Epoch 15/100\n",
      "3219/3219 [==============================] - 1s 235us/step - loss: 0.6481 - accuracy: 0.6490\n",
      "Epoch 16/100\n",
      "3219/3219 [==============================] - 1s 234us/step - loss: 0.6480 - accuracy: 0.6490\n",
      "Epoch 17/100\n",
      "3219/3219 [==============================] - 1s 239us/step - loss: 0.6481 - accuracy: 0.6490\n",
      "Epoch 18/100\n",
      "3219/3219 [==============================] - 1s 236us/step - loss: 0.6481 - accuracy: 0.6490\n",
      "Epoch 19/100\n",
      "3219/3219 [==============================] - 1s 231us/step - loss: 0.6480 - accuracy: 0.6490\n",
      "Epoch 20/100\n",
      "3219/3219 [==============================] - 1s 234us/step - loss: 0.6481 - accuracy: 0.6490\n",
      "Epoch 21/100\n",
      "3219/3219 [==============================] - 1s 239us/step - loss: 0.6480 - accuracy: 0.6490\n",
      "Epoch 22/100\n",
      "3219/3219 [==============================] - 1s 229us/step - loss: 0.6481 - accuracy: 0.6490\n",
      "Epoch 23/100\n",
      "3219/3219 [==============================] - 1s 232us/step - loss: 0.6481 - accuracy: 0.6490\n",
      "Epoch 24/100\n",
      "3219/3219 [==============================] - 1s 231us/step - loss: 0.6480 - accuracy: 0.6490\n",
      "Epoch 25/100\n",
      "3219/3219 [==============================] - 1s 238us/step - loss: 0.6480 - accuracy: 0.6490\n",
      "Epoch 26/100\n",
      "3219/3219 [==============================] - 1s 230us/step - loss: 0.6480 - accuracy: 0.6490\n",
      "Epoch 27/100\n",
      "3219/3219 [==============================] - 1s 229us/step - loss: 0.6480 - accuracy: 0.6490\n",
      "Epoch 28/100\n",
      "3219/3219 [==============================] - 1s 241us/step - loss: 0.6480 - accuracy: 0.6490\n",
      "Epoch 29/100\n",
      "3219/3219 [==============================] - 1s 232us/step - loss: 0.6480 - accuracy: 0.6490\n",
      "Epoch 30/100\n",
      "3219/3219 [==============================] - 1s 221us/step - loss: 0.6480 - accuracy: 0.6490\n",
      "Epoch 31/100\n",
      "3219/3219 [==============================] - 1s 230us/step - loss: 0.6481 - accuracy: 0.6490\n",
      "Epoch 32/100\n",
      "3219/3219 [==============================] - 1s 236us/step - loss: 0.6480 - accuracy: 0.6490\n",
      "Epoch 33/100\n",
      "3219/3219 [==============================] - 1s 231us/step - loss: 0.6480 - accuracy: 0.6490\n",
      "Epoch 34/100\n",
      "3219/3219 [==============================] - 1s 241us/step - loss: 0.6480 - accuracy: 0.6490\n",
      "Epoch 35/100\n",
      "3219/3219 [==============================] - 1s 241us/step - loss: 0.6480 - accuracy: 0.6490\n",
      "Epoch 36/100\n",
      "3219/3219 [==============================] - 1s 241us/step - loss: 0.6480 - accuracy: 0.6490\n",
      "Epoch 37/100\n",
      "3219/3219 [==============================] - 1s 244us/step - loss: 0.6480 - accuracy: 0.6490\n",
      "Epoch 38/100\n",
      "3219/3219 [==============================] - 1s 236us/step - loss: 0.6481 - accuracy: 0.6490\n",
      "Epoch 39/100\n",
      "3219/3219 [==============================] - 1s 237us/step - loss: 0.6481 - accuracy: 0.6490\n",
      "Epoch 40/100\n",
      "3219/3219 [==============================] - 1s 236us/step - loss: 0.6480 - accuracy: 0.6490\n",
      "Epoch 41/100\n",
      "3219/3219 [==============================] - 1s 234us/step - loss: 0.6481 - accuracy: 0.6490\n",
      "Epoch 42/100\n",
      "3219/3219 [==============================] - 1s 234us/step - loss: 0.6481 - accuracy: 0.6490\n",
      "Epoch 43/100\n",
      "3219/3219 [==============================] - 1s 236us/step - loss: 0.6481 - accuracy: 0.6490\n",
      "Epoch 44/100\n",
      "3219/3219 [==============================] - 1s 231us/step - loss: 0.6480 - accuracy: 0.6490\n",
      "Epoch 45/100\n",
      "3219/3219 [==============================] - 1s 223us/step - loss: 0.6480 - accuracy: 0.6490\n",
      "Epoch 46/100\n",
      "3219/3219 [==============================] - 1s 227us/step - loss: 0.6480 - accuracy: 0.6490\n",
      "Epoch 47/100\n",
      "3219/3219 [==============================] - 1s 243us/step - loss: 0.6480 - accuracy: 0.6490\n",
      "Epoch 48/100\n",
      "3219/3219 [==============================] - 1s 234us/step - loss: 0.6480 - accuracy: 0.6490\n",
      "Epoch 49/100\n",
      "3219/3219 [==============================] - 1s 238us/step - loss: 0.6481 - accuracy: 0.6490\n",
      "Epoch 50/100\n",
      "3219/3219 [==============================] - 1s 250us/step - loss: 0.6480 - accuracy: 0.6490\n",
      "Epoch 51/100\n",
      "3219/3219 [==============================] - 1s 237us/step - loss: 0.6481 - accuracy: 0.6490\n",
      "Epoch 52/100\n",
      "3219/3219 [==============================] - 1s 244us/step - loss: 0.6481 - accuracy: 0.6490\n",
      "Epoch 53/100\n",
      "3219/3219 [==============================] - 1s 247us/step - loss: 0.6480 - accuracy: 0.6490\n",
      "Epoch 54/100\n",
      "3219/3219 [==============================] - 1s 231us/step - loss: 0.6480 - accuracy: 0.6490\n",
      "Epoch 55/100\n",
      "3219/3219 [==============================] - 1s 230us/step - loss: 0.6480 - accuracy: 0.6490\n",
      "Epoch 56/100\n",
      "3219/3219 [==============================] - 1s 241us/step - loss: 0.6480 - accuracy: 0.6490\n",
      "Epoch 57/100\n",
      "3219/3219 [==============================] - 1s 254us/step - loss: 0.6480 - accuracy: 0.6490\n",
      "Epoch 58/100\n",
      "3219/3219 [==============================] - 1s 245us/step - loss: 0.6481 - accuracy: 0.6490\n",
      "Epoch 59/100\n",
      "3219/3219 [==============================] - 1s 236us/step - loss: 0.6480 - accuracy: 0.6490\n",
      "Epoch 60/100\n",
      "3219/3219 [==============================] - 1s 246us/step - loss: 0.6481 - accuracy: 0.6490\n",
      "Epoch 61/100\n",
      "3219/3219 [==============================] - 1s 235us/step - loss: 0.6481 - accuracy: 0.6490\n",
      "Epoch 62/100\n",
      "3219/3219 [==============================] - 1s 235us/step - loss: 0.6480 - accuracy: 0.6490\n",
      "Epoch 63/100\n",
      "3219/3219 [==============================] - 1s 225us/step - loss: 0.6481 - accuracy: 0.6490\n",
      "Epoch 64/100\n",
      "3219/3219 [==============================] - 1s 236us/step - loss: 0.6481 - accuracy: 0.6490\n",
      "Epoch 65/100\n",
      "3219/3219 [==============================] - 1s 242us/step - loss: 0.6480 - accuracy: 0.6490\n",
      "Epoch 66/100\n",
      "3219/3219 [==============================] - 1s 241us/step - loss: 0.6480 - accuracy: 0.6490\n",
      "Epoch 67/100\n",
      "3219/3219 [==============================] - ETA: 0s - loss: 0.6501 - accuracy: 0.64 - 1s 244us/step - loss: 0.6480 - accuracy: 0.6490\n",
      "Epoch 68/100\n",
      "3219/3219 [==============================] - 1s 239us/step - loss: 0.6481 - accuracy: 0.6490\n",
      "Epoch 69/100\n",
      "3219/3219 [==============================] - 1s 230us/step - loss: 0.6479 - accuracy: 0.6490\n",
      "Epoch 70/100\n",
      "3219/3219 [==============================] - 1s 236us/step - loss: 0.6481 - accuracy: 0.6490\n",
      "Epoch 71/100\n",
      "3219/3219 [==============================] - 1s 243us/step - loss: 0.6480 - accuracy: 0.6490\n",
      "Epoch 72/100\n",
      "3219/3219 [==============================] - 1s 250us/step - loss: 0.6480 - accuracy: 0.6490\n",
      "Epoch 73/100\n",
      "3219/3219 [==============================] - 1s 248us/step - loss: 0.6480 - accuracy: 0.6490\n",
      "Epoch 74/100\n",
      "3219/3219 [==============================] - 1s 239us/step - loss: 0.6481 - accuracy: 0.6490\n",
      "Epoch 75/100\n",
      "3219/3219 [==============================] - 1s 244us/step - loss: 0.6481 - accuracy: 0.6490\n",
      "Epoch 76/100\n",
      "3219/3219 [==============================] - 1s 231us/step - loss: 0.6481 - accuracy: 0.6490\n",
      "Epoch 77/100\n",
      "3219/3219 [==============================] - 1s 238us/step - loss: 0.6481 - accuracy: 0.6490\n"
     ]
    },
    {
     "name": "stdout",
     "output_type": "stream",
     "text": [
      "Epoch 78/100\n",
      "3219/3219 [==============================] - 1s 236us/step - loss: 0.6482 - accuracy: 0.6490\n",
      "Epoch 79/100\n",
      "3219/3219 [==============================] - 1s 229us/step - loss: 0.6480 - accuracy: 0.6490\n",
      "Epoch 80/100\n",
      "3219/3219 [==============================] - 1s 227us/step - loss: 0.6481 - accuracy: 0.6490\n",
      "Epoch 81/100\n",
      "3219/3219 [==============================] - 1s 280us/step - loss: 0.6480 - accuracy: 0.6490\n",
      "Epoch 82/100\n",
      "3219/3219 [==============================] - 1s 279us/step - loss: 0.6480 - accuracy: 0.6490\n",
      "Epoch 83/100\n",
      "3219/3219 [==============================] - 1s 239us/step - loss: 0.6480 - accuracy: 0.6490\n",
      "Epoch 84/100\n",
      "3219/3219 [==============================] - 1s 241us/step - loss: 0.6481 - accuracy: 0.6490\n",
      "Epoch 85/100\n",
      "3219/3219 [==============================] - 1s 230us/step - loss: 0.6480 - accuracy: 0.6490\n",
      "Epoch 86/100\n",
      "3219/3219 [==============================] - 1s 234us/step - loss: 0.6480 - accuracy: 0.6490\n",
      "Epoch 87/100\n",
      "3219/3219 [==============================] - 1s 222us/step - loss: 0.6481 - accuracy: 0.6490\n",
      "Epoch 88/100\n",
      "3219/3219 [==============================] - 1s 242us/step - loss: 0.6481 - accuracy: 0.6490\n",
      "Epoch 89/100\n",
      "3219/3219 [==============================] - 1s 251us/step - loss: 0.6480 - accuracy: 0.6490\n",
      "Epoch 90/100\n",
      "3219/3219 [==============================] - 1s 247us/step - loss: 0.6481 - accuracy: 0.6490\n",
      "Epoch 91/100\n",
      "3219/3219 [==============================] - 1s 222us/step - loss: 0.6480 - accuracy: 0.6490\n",
      "Epoch 92/100\n",
      "3219/3219 [==============================] - 1s 229us/step - loss: 0.6480 - accuracy: 0.6490\n",
      "Epoch 93/100\n",
      "3219/3219 [==============================] - 1s 215us/step - loss: 0.6481 - accuracy: 0.6490\n",
      "Epoch 94/100\n",
      "3219/3219 [==============================] - 1s 224us/step - loss: 0.6480 - accuracy: 0.6490\n",
      "Epoch 95/100\n",
      "3219/3219 [==============================] - 1s 227us/step - loss: 0.6480 - accuracy: 0.6490\n",
      "Epoch 96/100\n",
      "3219/3219 [==============================] - 1s 249us/step - loss: 0.6480 - accuracy: 0.6490\n",
      "Epoch 97/100\n",
      "3219/3219 [==============================] - 1s 227us/step - loss: 0.6480 - accuracy: 0.6490\n",
      "Epoch 98/100\n",
      "3219/3219 [==============================] - 1s 234us/step - loss: 0.6480 - accuracy: 0.6490\n",
      "Epoch 99/100\n",
      "3219/3219 [==============================] - 1s 225us/step - loss: 0.6481 - accuracy: 0.6490\n",
      "Epoch 100/100\n",
      "3219/3219 [==============================] - 1s 230us/step - loss: 0.6482 - accuracy: 0.6490\n"
     ]
    },
    {
     "data": {
      "text/plain": [
       "<keras.callbacks.callbacks.History at 0x17b15f47988>"
      ]
     },
     "execution_count": 13,
     "metadata": {},
     "output_type": "execute_result"
    }
   ],
   "source": [
    "classifier.fit(\n",
    "                x_train,\n",
    "                y_train,\n",
    "                batch_size= 25,\n",
    "                epochs = 100\n",
    "            )"
   ]
  },
  {
   "cell_type": "code",
   "execution_count": 15,
   "id": "2d4ce871",
   "metadata": {},
   "outputs": [],
   "source": [
    "y_pred = classifier.predict(x_test)"
   ]
  },
  {
   "cell_type": "code",
   "execution_count": 16,
   "id": "57832d99",
   "metadata": {},
   "outputs": [],
   "source": [
    "y_pred = (y_pred > 0.5)"
   ]
  },
  {
   "cell_type": "code",
   "execution_count": 17,
   "id": "8a7e76c2",
   "metadata": {},
   "outputs": [
    {
     "data": {
      "text/plain": [
       "array([[ True],\n",
       "       [ True],\n",
       "       [ True],\n",
       "       ...,\n",
       "       [False],\n",
       "       [ True],\n",
       "       [ True]])"
      ]
     },
     "execution_count": 17,
     "metadata": {},
     "output_type": "execute_result"
    }
   ],
   "source": [
    "y_pred"
   ]
  },
  {
   "cell_type": "code",
   "execution_count": 18,
   "id": "05df765f",
   "metadata": {},
   "outputs": [],
   "source": [
    "from keras.wrappers.scikit_learn import KerasClassifier\n",
    "from sklearn.model_selection import cross_val_score\n",
    "from keras.models import Sequential\n",
    "from keras.layers import Dense"
   ]
  },
  {
   "cell_type": "code",
   "execution_count": 19,
   "id": "d639fc6b",
   "metadata": {},
   "outputs": [],
   "source": [
    "def build_classifier():\n",
    "    classifier = Sequential()\n",
    "    \n",
    "    classifier.add(Dense(\n",
    "        units = 6,\n",
    "        kernel_initializer=\"uniform\",\n",
    "        activation=\"relu\",\n",
    "        input_dim = 11\n",
    "        ))\n",
    "    \n",
    "    classifier.add(Dense(\n",
    "        units = 6,\n",
    "        kernel_initializer=\"uniform\",\n",
    "        activation=\"relu\"\n",
    "        ))\n",
    "    \n",
    "    classifier.add(Dense(\n",
    "        units = 1,\n",
    "        kernel_initializer=\"uniform\",\n",
    "        activation=\"sigmoid\"\n",
    "        ))\n",
    "    \n",
    "    classifier.compile(\n",
    "        optimizer = \"adam\",\n",
    "        loss=\"binary_crossentropy\",\n",
    "        metrics=['accuracy']\n",
    "        )\n",
    "    \n",
    "    return classifier"
   ]
  },
  {
   "cell_type": "code",
   "execution_count": 20,
   "id": "414cc10a",
   "metadata": {},
   "outputs": [
    {
     "name": "stdout",
     "output_type": "stream",
     "text": [
      "Epoch 1/1\n",
      "2897/2897 [==============================] - 3s 897us/step - loss: 12.8562 - accuracy: 0.5157\n",
      "322/322 [==============================] - 0s 398us/step\n",
      "Epoch 1/1\n",
      "2897/2897 [==============================] - 2s 775us/step - loss: 56.5349 - accuracy: 0.5706\n",
      "322/322 [==============================] - 0s 450us/step\n",
      "Epoch 1/1\n",
      "2897/2897 [==============================] - 2s 811us/step - loss: 1.1177 - accuracy: 0.5551\n",
      "322/322 [==============================] - 0s 397us/step\n",
      "Epoch 1/1\n",
      "2897/2897 [==============================] - ETA: 0s - loss: 265.0224 - accuracy: 0.56 - 2s 817us/step - loss: 265.4244 - accuracy: 0.5633\n",
      "322/322 [==============================] - 0s 431us/step\n",
      "Epoch 1/1\n",
      "2897/2897 [==============================] - 2s 813us/step - loss: 21.5624 - accuracy: 0.5516\n",
      "322/322 [==============================] - 0s 371us/step\n",
      "Epoch 1/1\n",
      "2897/2897 [==============================] - 2s 822us/step - loss: 15.2180 - accuracy: 0.5582\n",
      "322/322 [==============================] - 0s 415us/step\n",
      "Epoch 1/1\n",
      "2897/2897 [==============================] - 2s 806us/step - loss: 172.8301 - accuracy: 0.5654\n",
      "322/322 [==============================] - 0s 414us/step\n",
      "Epoch 1/1\n",
      "2897/2897 [==============================] - 2s 786us/step - loss: 3.1070 - accuracy: 0.4653\n",
      "322/322 [==============================] - 0s 373us/step\n",
      "Epoch 1/1\n",
      "2897/2897 [==============================] - 2s 775us/step - loss: 5.8931 - accuracy: 0.5178\n",
      "322/322 [==============================] - 0s 426us/step\n",
      "Epoch 1/1\n",
      "2898/2898 [==============================] - 2s 796us/step - loss: 4.0720 - accuracy: 0.5335\n",
      "321/321 [==============================] - 0s 473us/step\n"
     ]
    }
   ],
   "source": [
    "classifier = KerasClassifier(\n",
    "        build_fn=build_classifier,\n",
    "        batch_size = 10,\n",
    "        nb_epoch = 100)\n",
    "\n",
    "accuracies = cross_val_score(\n",
    "        estimator=classifier,\n",
    "        X=x_train,\n",
    "        y=y_train,\n",
    "        cv=10,\n",
    "        n_jobs=1)"
   ]
  },
  {
   "cell_type": "code",
   "execution_count": 21,
   "id": "9b9b0cae",
   "metadata": {},
   "outputs": [],
   "source": [
    "mean = accuracies.mean()\n",
    "variance= accuracies.std()"
   ]
  },
  {
   "cell_type": "code",
   "execution_count": 22,
   "id": "06f8896d",
   "metadata": {},
   "outputs": [
    {
     "data": {
      "text/plain": [
       "0.5327876687049866"
      ]
     },
     "execution_count": 22,
     "metadata": {},
     "output_type": "execute_result"
    }
   ],
   "source": [
    "mean"
   ]
  },
  {
   "cell_type": "code",
   "execution_count": 23,
   "id": "87b27792",
   "metadata": {},
   "outputs": [
    {
     "data": {
      "text/plain": [
       "0.07380831601281596"
      ]
     },
     "execution_count": 23,
     "metadata": {},
     "output_type": "execute_result"
    }
   ],
   "source": [
    "variance"
   ]
  }
 ],
 "metadata": {
  "kernelspec": {
   "display_name": "Python 3 (ipykernel)",
   "language": "python",
   "name": "python3"
  },
  "language_info": {
   "codemirror_mode": {
    "name": "ipython",
    "version": 3
   },
   "file_extension": ".py",
   "mimetype": "text/x-python",
   "name": "python",
   "nbconvert_exporter": "python",
   "pygments_lexer": "ipython3",
   "version": "3.7.11"
  }
 },
 "nbformat": 4,
 "nbformat_minor": 5
}
